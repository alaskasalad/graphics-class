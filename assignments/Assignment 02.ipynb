{
 "cells": [
  {
   "cell_type": "markdown",
   "id": "497233b8",
   "metadata": {},
   "source": [
    "Assignment 2: Caitlin Box"
   ]
  },
  {
   "cell_type": "code",
   "execution_count": 15,
   "id": "76421e0b",
   "metadata": {},
   "outputs": [],
   "source": [
    "import pygame\n",
    "import moderngl\n",
    "import numpy"
   ]
  },
  {
   "cell_type": "code",
   "execution_count": 16,
   "id": "5afcbd77",
   "metadata": {},
   "outputs": [
    {
     "data": {
      "text/plain": [
       "(5, 0)"
      ]
     },
     "execution_count": 16,
     "metadata": {},
     "output_type": "execute_result"
    }
   ],
   "source": [
    "WIDTH = 600\n",
    "HEIGHT = 600\n",
    "pygame.init()"
   ]
  },
  {
   "cell_type": "code",
   "execution_count": 17,
   "id": "3168f3a1",
   "metadata": {},
   "outputs": [],
   "source": [
    "pygame.display.set_mode((HEIGHT, WIDTH), flags= pygame.OPENGL | pygame.DOUBLEBUF)\n",
    "pygame.display.set_caption(title=\"Assignment 2\")\n",
    "gl = moderngl.get_context()"
   ]
  },
  {
   "cell_type": "code",
   "execution_count": 18,
   "id": "319a53e4",
   "metadata": {},
   "outputs": [],
   "source": [
    "# two different triangles to make diamond \n",
    "position_data = [\n",
    "    #x    y \n",
    "    0.0, 0.8,\n",
    "    0.8, 0.0,\n",
    "    -0.8, 0.0,\n",
    "\n",
    "    0.0, -0.8,\n",
    "    0.8, 0.0,\n",
    "    -0.8, 0.0\n",
    "]\n",
    "triangle_vertext_positins = numpy.array(position_data).astype(\"float32\")\n",
    "triangle_position_buffer = gl.buffer(triangle_vertext_positins)"
   ]
  },
  {
   "cell_type": "code",
   "execution_count": 19,
   "id": "7b7a5b65",
   "metadata": {},
   "outputs": [],
   "source": [
    "fragment_shader_code = '''\n",
    "#version 330 core\n",
    "\n",
    "out vec4 color; \n",
    "\n",
    "void main(){\n",
    "    color = vec4(1, 1, 0, 0);\n",
    "}\n",
    "'''\n",
    "\n",
    "vertext_shader_code = '''\n",
    "#version 330 core \n",
    "\n",
    "layout (location = 0) in vec2 position; \n",
    "\n",
    "void main() {\n",
    "    gl_Position = vec4(position, 0.0, 1.0); \n",
    "}\n",
    "'''"
   ]
  },
  {
   "cell_type": "code",
   "execution_count": 20,
   "id": "619fd505",
   "metadata": {},
   "outputs": [],
   "source": [
    "program = gl.program(\n",
    "    vertex_shader = vertext_shader_code,\n",
    "    fragment_shader = fragment_shader_code\n",
    ")\n",
    "renderable = gl.vertex_array(program,\n",
    "    [( triangle_position_buffer, \"2f\", \"position\")])"
   ]
  },
  {
   "cell_type": "code",
   "execution_count": 21,
   "id": "a55ac0ff",
   "metadata": {},
   "outputs": [],
   "source": [
    "running = True\n",
    "clock = pygame.time.Clock()\n",
    "while running:\n",
    "    for event in pygame.event.get():\n",
    "        if event.type == pygame.QUIT or (event.type == pygame.KEYDOWN and event.key==27):\n",
    "            running = False\n",
    "    \n",
    "    gl.clear(0.502, 0.502, 0) # background color \n",
    "    renderable.render()\n",
    "\n",
    "    pygame.display.flip()\n",
    "    clock.tick(10)\n",
    "\n",
    "pygame.quit()"
   ]
  }
 ],
 "metadata": {
  "kernelspec": {
   "display_name": "Python 3",
   "language": "python",
   "name": "python3"
  },
  "language_info": {
   "codemirror_mode": {
    "name": "ipython",
    "version": 3
   },
   "file_extension": ".py",
   "mimetype": "text/x-python",
   "name": "python",
   "nbconvert_exporter": "python",
   "pygments_lexer": "ipython3",
   "version": "3.12.6"
  }
 },
 "nbformat": 4,
 "nbformat_minor": 5
}
