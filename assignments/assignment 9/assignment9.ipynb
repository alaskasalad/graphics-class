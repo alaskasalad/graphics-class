{
 "cells": [
  {
   "cell_type": "markdown",
   "id": "1ab5f0cf",
   "metadata": {},
   "source": [
    "# Assignment 9: Caitlin Box"
   ]
  },
  {
   "cell_type": "markdown",
   "id": "567531d3",
   "metadata": {},
   "source": [
    "#### imports"
   ]
  },
  {
   "cell_type": "code",
   "execution_count": null,
   "id": "de474718",
   "metadata": {},
   "outputs": [],
   "source": [
    "import pygame\n",
    "import moderngl\n",
    "import glm\n",
    "from loadModelUsingAssimp_V2 import create3DAssimpObject"
   ]
  },
  {
   "cell_type": "markdown",
   "id": "02b0d8a9",
   "metadata": {},
   "source": [
    "#### get our model in the folder"
   ]
  },
  {
   "cell_type": "code",
   "execution_count": null,
   "id": "5c794b48",
   "metadata": {},
   "outputs": [],
   "source": [
    "assimpObject = create3DAssimpObject(\"chair_table_class/scene.gltf\", verbose=False, textureFlag = True, normalFlag= True) # changed mario to chair thing \n",
    "              # Flags supported: textureFlag, normalFlag, tangentFlag"
   ]
  },
  {
   "cell_type": "markdown",
   "id": "54168fe2",
   "metadata": {},
   "source": [
    "#### Vertext shader"
   ]
  },
  {
   "cell_type": "code",
   "execution_count": null,
   "id": "450896f4",
   "metadata": {},
   "outputs": [],
   "source": [
    "vertex_shader_code = '''\n",
    "#version 460 core\n",
    "\n",
    "layout (location=0) in vec3 position;\n",
    "layout (location=1) in vec2 uv;\n",
    "layout (location=2) in vec3 normal;\n",
    "\n",
    "uniform mat4 model, view, perspective;\n",
    "uniform mat3 normalMatrix; \n",
    "\n",
    "out vec2 f_uv; // Texture coordinate\n",
    "out vec3 f_normal; // normal vector output to the pipeline \n",
    "out vec3 f_position; // poisition in world corrdinates\n",
    "\n",
    "void main() {\n",
    "    f_uv = uv;\n",
    "    vec4 P = (model*vec4(position, 1)); \n",
    "    f_position = P.xyz; \n",
    "    \n",
    "    gl_Position = perspective*view*P;\n",
    "    mat3 normalMatrix = mat3(transpose(inverse(model))); // inverse transpose of model transformation\n",
    "    f_normal = normalize(normalMatrix*normal); \n",
    "}\n",
    "'''"
   ]
  },
  {
   "cell_type": "markdown",
   "id": "624d14c8",
   "metadata": {},
   "source": [
    "#### Fragment Shader"
   ]
  },
  {
   "cell_type": "code",
   "execution_count": null,
   "id": "ea1f7861",
   "metadata": {},
   "outputs": [],
   "source": [
    "#\n",
    "# Fragment shader(s)\n",
    "#\n",
    "fragment_shader_code = '''\n",
    "#version 460 core\n",
    "\n",
    "in vec2 f_uv;\n",
    "in vec3 f_normal; \n",
    "in vec3 f_position; \n",
    "\n",
    "\n",
    "uniform sampler2D map;\n",
    "uniform vec3 light; // light direciton \n",
    "\n",
    "uniform float shininess; \n",
    "uniform vec3 eye_position;\n",
    "uniform vec3 k_diffuse; \n",
    "\n",
    "// Add output variable here\n",
    "out vec4 out_color;\n",
    "\n",
    "vec3 computeColor(){\n",
    "    vec3 L = normalize(light.xyz); \n",
    "    vec3 materialColor = texture(map, f_uv).rgb;\n",
    "    vec3 N = normalize(f_normal); \n",
    "\n",
    "    float NdotL = dot(N,L); \n",
    "    vec3 color = vec3(0.);\n",
    "\n",
    "    if (NdotL > 0.) {\n",
    "        vec3 ambientColor = materialColor * 0.1; \n",
    "        vec3 diffuselyReflectedColor = materialColor * NdotL;\n",
    "\n",
    "        // compute specular color\n",
    "        vec3 V = eye_position - f_position; \n",
    "        vec3 H = normalize(L+V);\n",
    "        vec3 specularlyReflectedColor = vec3(1.)*pow(dot(N,H), shininess);\n",
    "        color = ambientColor + k_diffuse * diffuselyReflectedColor + specularlyReflectedColor; \n",
    "    }\n",
    "    return color;\n",
    "}\n",
    "\n",
    "void main() {\n",
    "\n",
    "    out_color = vec4(computeColor(), 1);\n",
    "}\n",
    "'''"
   ]
  },
  {
   "cell_type": "markdown",
   "id": "7ba52147",
   "metadata": {},
   "source": [
    "#### Display"
   ]
  },
  {
   "cell_type": "code",
   "execution_count": null,
   "id": "c55d3316",
   "metadata": {},
   "outputs": [],
   "source": [
    "bound = assimpObject.bound\n",
    "width = 840\n",
    "height = 480\n",
    "\n",
    "displacement_vector = 2*bound.radius*glm.vec3(0,0,1) #glm.rotate(glm.vec3(0,1,0), glm.radians(60), glm.vec3(1,0,0)) #\n",
    "light_displacement_vector = 2*bound.radius*glm.rotate(glm.vec3(0,1,0), glm.radians(45), glm.vec3(1,0,0))\n",
    "    \n",
    "target_point = glm.vec3(bound.center)\n",
    "up_vector = glm.vec3(0,1,0)\n",
    "\n",
    "### View volume parameters\n",
    "fov_radian = glm.radians(45) # In radian\n",
    "aspect = width/height\n",
    "near = bound.radius\n",
    "far = 3*bound.radius\n",
    "perspectiveMatrix = glm.perspective(fov_radian, aspect, near, far)\n",
    "\n",
    "pygame.init() # Initlizes its different modules. Display module is one of them."
   ]
  },
  {
   "cell_type": "markdown",
   "id": "c79d4c2d",
   "metadata": {},
   "source": [
    "#### pygame set up"
   ]
  },
  {
   "cell_type": "code",
   "execution_count": null,
   "id": "ac916753",
   "metadata": {},
   "outputs": [],
   "source": [
    "pygame.display.gl_set_attribute(pygame.GL_CONTEXT_PROFILE_MASK, pygame.GL_CONTEXT_PROFILE_CORE) \n",
    "pygame.display.set_mode((width, height), flags= pygame.OPENGL | pygame.DOUBLEBUF | pygame.RESIZABLE)\n",
    "pygame.display.set_caption(title = \"Assignment 09: Caitlin Box\")\n",
    "gl = moderngl.get_context() # Get Previously created context.\n",
    "gl.info[\"GL_VERSION\"]"
   ]
  },
  {
   "cell_type": "markdown",
   "id": "2f088d32",
   "metadata": {},
   "source": [
    "#### renderables"
   ]
  },
  {
   "cell_type": "code",
   "execution_count": null,
   "id": "70e446ae",
   "metadata": {},
   "outputs": [],
   "source": [
    "program = gl.program(\n",
    "    vertex_shader= vertex_shader_code,\n",
    "    fragment_shader= fragment_shader_code\n",
    ")\n",
    "format = \"3f 3f 2f\"\n",
    "variables = [\"position\", \"normal\", \"uv\"]\n",
    "renderables = assimpObject.getRenderables(gl, program, format, variables)"
   ]
  },
  {
   "cell_type": "markdown",
   "id": "ea316b61",
   "metadata": {},
   "source": [
    "#### samplers from obj"
   ]
  },
  {
   "cell_type": "code",
   "execution_count": null,
   "id": "f849d92c",
   "metadata": {},
   "outputs": [],
   "source": [
    "samplers = assimpObject.getSamplers(gl)"
   ]
  },
  {
   "cell_type": "markdown",
   "id": "4842ad6a",
   "metadata": {},
   "source": [
    "#### Recursive render"
   ]
  },
  {
   "cell_type": "code",
   "execution_count": null,
   "id": "e3345751",
   "metadata": {},
   "outputs": [],
   "source": [
    "scene = assimpObject.scene\n",
    "meshes = scene.meshes\n",
    "materials = scene.materials \n",
    "\n",
    "def recursive_render(node, M):\n",
    "    if node is None:\n",
    "        print(\"Empty node\")\n",
    "        return\n",
    "    #print(\"Number of meshes: \",len(node.meshes))\n",
    "    nodeTransform = glm.transpose(glm.mat4(node.transformation));\n",
    "    currentTransform = M * nodeTransform\n",
    "    if node.num_meshes > 0:\n",
    "        for index in node.mesh_indices:\n",
    "            samplers[index].use(0)\n",
    "            program[\"map\"] = 0\n",
    "            program[\"model\"].write(currentTransform)\n",
    "\n",
    "            mesh = meshes[index]\n",
    "            material = materials[mesh.material_index]\n",
    "            program[\"shininess\"] = material[\"SHININESS\"]\n",
    "\n",
    "            k_diffuse = glm.vec4(material[\"COLOR_DIFFUSE\"]).rgb\n",
    "            program[\"k_diffuse\"].write(k_diffuse)\n",
    "\n",
    "            renderables[index].render()\n",
    "\n",
    "    for node in node.children:\n",
    "        recursive_render(node, currentTransform)\n",
    "\n",
    "def render():\n",
    "    recursive_render(scene.root_node, glm.mat4(1))"
   ]
  },
  {
   "cell_type": "markdown",
   "id": "8104be12",
   "metadata": {},
   "source": [
    "#### starting the pygame and setting everything "
   ]
  },
  {
   "cell_type": "code",
   "execution_count": null,
   "id": "47735e66",
   "metadata": {},
   "outputs": [],
   "source": [
    "running = True\n",
    "clock = pygame.time.Clock()\n",
    "alpha = 0\n",
    "pause = True\n",
    "gl.enable(gl.DEPTH_TEST)\n",
    "lightAngle = 0\n",
    "\n",
    "while running:   \n",
    "    # poll for events\n",
    "    # pygame.QUIT event means the user clicked X to close your window\n",
    "    # event.key == 27 means Escape key is pressed.\n",
    "    for event in pygame.event.get():\n",
    "        if event.type == pygame.QUIT:\n",
    "            running = False\n",
    "        elif (event.type ==  pygame.KEYDOWN):\n",
    "            if  event.key == 27:\n",
    "                running = False\n",
    "            elif event.key == pygame.K_p:\n",
    "                pause = not pause\n",
    "            elif event.key == pygame.K_LEFT:\n",
    "                lightAngle -= 5\n",
    "            elif event.key == pygame.K_RIGHT: \n",
    "                lightAngle += 5\n",
    "        elif (event.type == pygame.WINDOWRESIZED):\n",
    "            width = event.x\n",
    "            height = event.y\n",
    "            perspectiveMatrix = glm.perspective(fov_radian, width/height, near, far)\n",
    "\n",
    "    # create the aspect ratio correction matrix\n",
    "    new_displacement_vector = glm.rotate(displacement_vector, glm.radians(alpha), glm.vec3(0,1,0))\n",
    "    new_light_displacement_vector = glm.rotate(light_displacement_vector, glm.radians(lightAngle), glm.vec3(0,1,0)) # glm radians needs to be the y \n",
    "    eye_point = target_point + new_displacement_vector\n",
    "    viewMatrix = glm.lookAt(eye_point, target_point, up_vector)\n",
    "\n",
    "    \n",
    "    ### Add render code below\n",
    "    # background color \n",
    "    gl.clear(0.5,0.5,0.5)\n",
    "    \n",
    "    # Make one or more Render Calls to instruct the GPU to render by executing the shader program with the provided data.\n",
    "    program[\"view\"].write(viewMatrix)\n",
    "    program[\"perspective\"].write(perspectiveMatrix)\n",
    "    program[\"light\"].write(new_light_displacement_vector)\n",
    "    program[\"eye_position\"].write(eye_point)\n",
    "\n",
    "    render()\n",
    "    \n",
    "    pygame.display.flip()\n",
    "    clock.tick(60)  # limits FPS to 10\n",
    "    if not pause:\n",
    "        alpha = alpha + 1\n",
    "        if alpha > 360:\n",
    "            alpha = 0\n",
    "    \n",
    "pygame.display.quit()"
   ]
  }
 ],
 "metadata": {
  "language_info": {
   "name": "python"
  }
 },
 "nbformat": 4,
 "nbformat_minor": 5
}
