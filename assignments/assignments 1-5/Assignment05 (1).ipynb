{
 "cells": [
  {
   "cell_type": "markdown",
   "id": "a54fd2b3",
   "metadata": {},
   "source": [
    "Assignment 5: Caitlin Box"
   ]
  },
  {
   "cell_type": "code",
   "execution_count": 1,
   "id": "3c3f70e8",
   "metadata": {},
   "outputs": [
    {
     "name": "stdout",
     "output_type": "stream",
     "text": [
      "pygame 2.6.1 (SDL 2.28.4, Python 3.12.6)\n",
      "Hello from the pygame community. https://www.pygame.org/contribute.html\n"
     ]
    },
    {
     "data": {
      "text/plain": [
       "'4.6.0 NVIDIA 560.94'"
      ]
     },
     "execution_count": 1,
     "metadata": {},
     "output_type": "execute_result"
    }
   ],
   "source": [
    "import pygame\n",
    "import moderngl\n",
    "import numpy\n",
    "from math import cos, sin, pi, radians\n",
    "import glm\n",
    "\n",
    "pygame.init() # Initlizes its different modules. Display module is one of them.\n",
    "\n",
    "width = 840\n",
    "height = 480\n",
    "pygame.display.gl_set_attribute(pygame.GL_CONTEXT_PROFILE_MASK, pygame.GL_CONTEXT_PROFILE_CORE) \n",
    "pygame.display.set_mode((width, height), flags= pygame.OPENGL | pygame.DOUBLEBUF | pygame.RESIZABLE)\n",
    "pygame.display.set_caption(title = \"Caitlin Box: Assignment 5\")\n",
    "gl = moderngl.get_context() # Get Previously created context.\n",
    "gl.info[\"GL_VERSION\"]"
   ]
  },
  {
   "cell_type": "code",
   "execution_count": 2,
   "id": "0306017f",
   "metadata": {},
   "outputs": [],
   "source": [
    "diamond_position_data = [\n",
    "    0.0, 0.8,\n",
    "    -0.8, 0,\n",
    "    0.8, 0,\n",
    "    0.8, 0,\n",
    "    -0.8, 0,\n",
    "    0, -0.8\n",
    "]\n",
    "diamond_geometry = numpy.array(diamond_position_data).astype(\"float32\")\n",
    "#Push the Geometry Data to the GPU buffer.\n",
    "diamond_geometry_buffer = gl.buffer(diamond_geometry) # Create a Vertex buffer object from the data"
   ]
  },
  {
   "cell_type": "code",
   "execution_count": 3,
   "id": "45808299",
   "metadata": {},
   "outputs": [],
   "source": [
    "diamond_vertex_shader_code = '''\n",
    "#version 330 core\n",
    "\n",
    "layout (location=0) in vec2 position;\n",
    "\n",
    "uniform mat2 M;\n",
    "uniform float scale;\n",
    "uniform float radius;\n",
    "uniform float angle; \n",
    "\n",
    "void main() {\n",
    "    float c = cos(radians(angle));\n",
    "    float s = sin(radians(angle));\n",
    "    mat2 R = mat2(c, -s, s, c);\n",
    "\n",
    "    vec2 displacement = R * (radius * vec2(0, 1));\n",
    "    vec2 P = M * (scale * position + displacement);\n",
    "\n",
    "    gl_Position = vec4(P, 0.0, 1.0);\n",
    "}\n",
    "'''\n",
    "line_vertex_shader_code = '''\n",
    "#version 330 core\n",
    "\n",
    "// add attributes variables here\n",
    "uniform mat2 M;\n",
    "uniform float radius;\n",
    "uniform float angle;\n",
    "\n",
    "void main() {\n",
    "    float c = cos(radians(angle));\n",
    "    float s = sin(radians(angle));\n",
    "    mat2 R = mat2(c, -s, s, c);\n",
    "    \n",
    "    vec2 P = vec2(0);\n",
    "    if (gl_VertexID > 0) {\n",
    "        P = radius * R * vec2(0, 1);\n",
    "    }\n",
    "    gl_Position = vec4(M * P, 0.0, 1.0);\n",
    "}\n",
    "'''\n",
    "\n",
    "face_vertex_shader_code = '''\n",
    "#version 330 core\n",
    "\n",
    "out vec2 f_uv;\n",
    "uniform mat2 M; \n",
    "\n",
    "void main() {\n",
    "    \n",
    "    vec2 P, uv;\n",
    "    switch (gl_VertexID) {\n",
    "        case 0:\n",
    "        case 3:\n",
    "            uv = vec2(0,0);\n",
    "            P = vec2(-1,-1);\n",
    "            break;\n",
    "        case 1:\n",
    "            uv = vec2(1,0);\n",
    "            P = vec2(1,-1);\n",
    "            break; \n",
    "        case 2:\n",
    "        case 4: \n",
    "            uv = vec2(1,1);\n",
    "            P = vec2(1,1);\n",
    "            break;\n",
    "        case 5:\n",
    "            uv = vec2(0,1);\n",
    "            P = vec2(-1,1);\n",
    "            break;\n",
    "    }\n",
    "    f_uv = uv;\n",
    "    gl_Position = vec4(P*M,0.0, 1.0);\n",
    "}\n",
    "'''"
   ]
  },
  {
   "cell_type": "code",
   "execution_count": 4,
   "id": "27a531b7",
   "metadata": {},
   "outputs": [],
   "source": [
    "fragment_shader_code = '''\n",
    "#version 330 core\n",
    "\n",
    "out vec4 color;\n",
    "uniform vec3 inColor;\n",
    "\n",
    "void main() {\n",
    "   \n",
    "    color = vec4(inColor,1);\n",
    "}\n",
    "'''\n",
    "\n",
    "face_fragment_shader_code = '''\n",
    "#version 330 core\n",
    "\n",
    "out vec4 color;\n",
    "\n",
    "in vec2 f_uv; \n",
    "uniform sampler2D map; \n",
    "\n",
    "void main() {\n",
    "\n",
    "    color = texture(map, f_uv);\n",
    "}\n",
    "'''"
   ]
  },
  {
   "cell_type": "code",
   "execution_count": 5,
   "id": "ab6589a9",
   "metadata": {},
   "outputs": [],
   "source": [
    "diamond_program = gl.program(\n",
    "    vertex_shader= diamond_vertex_shader_code,\n",
    "    fragment_shader=fragment_shader_code\n",
    ")\n",
    "\n",
    "line_program = gl.program(\n",
    "    vertex_shader= line_vertex_shader_code,\n",
    "    fragment_shader= fragment_shader_code\n",
    ")\n",
    "face_program = gl.program(\n",
    "    vertex_shader= face_vertex_shader_code,\n",
    "    fragment_shader= face_fragment_shader_code\n",
    ")"
   ]
  },
  {
   "cell_type": "code",
   "execution_count": 6,
   "id": "e86261fc-33be-4415-9cd9-4e51de176bca",
   "metadata": {},
   "outputs": [],
   "source": [
    "diamond_renderable = gl.vertex_array(diamond_program,\n",
    "    [( diamond_geometry_buffer, \"2f\", \"position\" ) ]\n",
    ")\n",
    "\n",
    "line_renderable = gl.vertex_array(line_program,\n",
    "    []\n",
    ")\n",
    "face_renderable = gl.vertex_array(face_program, [])"
   ]
  },
  {
   "cell_type": "code",
   "execution_count": 7,
   "id": "ff9bf225",
   "metadata": {},
   "outputs": [],
   "source": [
    "texture_img = pygame.image.load(\"clockFace.png\")\n",
    "texture_data = pygame.image.tobytes(texture_img, \"RGB\", True)\n",
    "faceTexture = gl.texture(texture_img.get_size(), data = texture_data, components=3)\n",
    "faceSampler = gl.sampler(texture=faceTexture, filter=(gl.LINEAR, gl.LINEAR))"
   ]
  },
  {
   "cell_type": "code",
   "execution_count": 8,
   "id": "0d73c87a",
   "metadata": {},
   "outputs": [
    {
     "data": {
      "text/plain": [
       "(1660, 1655)"
      ]
     },
     "execution_count": 8,
     "metadata": {},
     "output_type": "execute_result"
    }
   ],
   "source": [
    "texture_img.get_size()"
   ]
  },
  {
   "cell_type": "code",
   "execution_count": 9,
   "id": "f8cebc17",
   "metadata": {},
   "outputs": [],
   "source": [
    "running = True\n",
    "clock = pygame.time.Clock()\n",
    "alpha = 0\n",
    "\n",
    "while running:   \n",
    "    # poll for events\n",
    "    # pygame.QUIT event means the user clicked X to close your window\n",
    "    # event.key == 27 means Escape key is pressed.\n",
    "    for event in pygame.event.get():\n",
    "        if event.type == pygame.QUIT or (event.type == pygame.KEYDOWN and event.key == 27):\n",
    "            running = False\n",
    "        elif (event.type == pygame.WINDOWRESIZED):\n",
    "            width = event.x\n",
    "            height = event.y\n",
    "    aspect = width/height\n",
    "    # create the aspect ratio correction matrix\n",
    "    \n",
    "    M_aspect = glm.mat2(1/aspect, 0, 0, 1) if aspect > 1 else glm.mat2(1, 0, 0, aspect)\n",
    "\n",
    "    #Create the rotation matrix\n",
    "    # ... Part of assignment 4\n",
    "    # M = M_aspect * M_rotate\n",
    "    M = M_aspect\n",
    "    \n",
    "    ### Add render code below\n",
    "    # Clear the display window with the specified R, G, B values using function ctx.clear(R, G, B)\n",
    "    gl.clear(0.5,0.5,0.0)\n",
    "\n",
    "    faceSampler.use(0)\n",
    "    faceTexture.use(location=0)\n",
    "    face_program[\"map\"] = 0\n",
    "    face_program[\"M\"].write(M)\n",
    "    face_renderable.render(moderngl.TRIANGLES, vertices=6)\n",
    "    \n",
    "    # Make one or more Render Calls to instruct the GPU to render by executing the shader program with the provided data.\n",
    "\n",
    "    diamond_program[\"M\"].write(M)\n",
    "    \n",
    "    diamond_program[\"scale\"] = 0.1\n",
    "    diamond_program[\"inColor\"] = 1, 1, 0\n",
    "    diamond_program ['angle'] = alpha\n",
    "    diamond_program[\"radius\"] = 0.8\n",
    "    diamond_renderable.render()\n",
    "    \n",
    "    diamond_program[\"radius\"] = 0.0\n",
    "    diamond_program[\"angle\"] = 0.0\n",
    "    diamond_renderable.render()\n",
    "    \n",
    "    line_program[\"M\"].write(M)\n",
    "    line_program[\"radius\"] = 0.8\n",
    "    line_program[\"inColor\"] = 0, 0, 0\n",
    "    line_program ['angle'] = alpha\n",
    "    line_renderable.render(moderngl.LINES, vertices=2)  \n",
    "    \n",
    "    pygame.display.flip()\n",
    "    clock.tick(60)  # limits FPS to 10\n",
    "    alpha = alpha + 0.1\n",
    "    if alpha > 360:\n",
    "        alpha = 0\n",
    "\n",
    "pygame.display.quit()"
   ]
  }
 ],
 "metadata": {
  "kernelspec": {
   "display_name": "Python 3",
   "language": "python",
   "name": "python3"
  },
  "language_info": {
   "codemirror_mode": {
    "name": "ipython",
    "version": 3
   },
   "file_extension": ".py",
   "mimetype": "text/x-python",
   "name": "python",
   "nbconvert_exporter": "python",
   "pygments_lexer": "ipython3",
   "version": "3.12.6"
  }
 },
 "nbformat": 4,
 "nbformat_minor": 5
}
