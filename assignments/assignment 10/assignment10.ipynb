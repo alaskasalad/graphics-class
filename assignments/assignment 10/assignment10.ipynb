{
 "cells": [
  {
   "cell_type": "markdown",
   "id": "8bef4dd7",
   "metadata": {},
   "source": [
    "## Assignment 10: Caitlin Box"
   ]
  },
  {
   "cell_type": "markdown",
   "id": "bcd185af",
   "metadata": {},
   "source": [
    "#### imports"
   ]
  },
  {
   "cell_type": "code",
   "execution_count": null,
   "id": "f07dd4b7",
   "metadata": {
    "vscode": {
     "languageId": "plaintext"
    }
   },
   "outputs": [],
   "source": [
    "import pygame\n",
    "import moderngl\n",
    "import numpy\n",
    "import glm\n",
    "from loadModelUsingAssimp_V3 import create3DAssimpObject"
   ]
  },
  {
   "cell_type": "markdown",
   "id": "a3e3a926",
   "metadata": {},
   "source": [
    "Scene & floor parameters"
   ]
  },
  {
   "cell_type": "code",
   "execution_count": null,
   "id": "bfc9bf75",
   "metadata": {
    "vscode": {
     "languageId": "plaintext"
    }
   },
   "outputs": [],
   "source": [
    "size = 20.0                 # 20 units on a side (assignment requirement)\n",
    "nSubDivisions = 10\n",
    "totalInstances = nSubDivisions * nSubDivisions\n",
    "delta = size / nSubDivisions"
   ]
  },
  {
   "cell_type": "markdown",
   "id": "3003acda",
   "metadata": {},
   "source": [
    "#### square floor on the XZ plane"
   ]
  },
  {
   "cell_type": "code",
   "execution_count": null,
   "id": "779cffc4",
   "metadata": {
    "vscode": {
     "languageId": "plaintext"
    }
   },
   "outputs": [],
   "source": [
    "floor_positions = numpy.array([\n",
    "    [-size/2, 0.0, -size/2],\n",
    "    [ size/2, 0.0, -size/2],\n",
    "    [ size/2, 0.0,  size/2],\n",
    "\n",
    "    [ size/2, 0.0,  size/2],\n",
    "    [-size/2, 0.0,  size/2],\n",
    "    [-size/2, 0.0, -size/2],\n",
    "], dtype=\"float32\")\n",
    "\n",
    "floor_uv = numpy.array([\n",
    "    [0.0, 0.0],\n",
    "    [1.0, 0.0],\n",
    "    [1.0, 1.0],\n",
    "\n",
    "    [1.0, 1.0],\n",
    "    [0.0, 1.0],\n",
    "    [0.0, 0.0],\n",
    "], dtype=\"float32\")\n",
    "\n",
    "floor_geom = numpy.concatenate((floor_positions, floor_uv), axis=1).flatten().astype(\"float32\")"
   ]
  },
  {
   "cell_type": "markdown",
   "id": "485e1838",
   "metadata": {},
   "source": [
    "#### Bound for camera"
   ]
  },
  {
   "cell_type": "code",
   "execution_count": null,
   "id": "d5aaaea1",
   "metadata": {
    "vscode": {
     "languageId": "plaintext"
    }
   },
   "outputs": [],
   "source": [
    "class bound:\n",
    "    boundingBox = [glm.vec3(-10.0, 0.0, -10.0), glm.vec3(10.0, 0.0, 10.0)]\n",
    "    center = glm.vec3(0.0, 0.0, 0.0)\n",
    "    radius = 10.0 * glm.sqrt(2.0)\n",
    "\n",
    "rng = numpy.random.default_rng()"
   ]
  },
  {
   "cell_type": "markdown",
   "id": "d84637c4",
   "metadata": {},
   "source": [
    "#### model"
   ]
  },
  {
   "cell_type": "code",
   "execution_count": null,
   "id": "a7e2e506",
   "metadata": {
    "vscode": {
     "languageId": "plaintext"
    }
   },
   "outputs": [],
   "source": [
    "model_file = \"chair_table_class/scene.gltf\"\n",
    "modelObj = create3DAssimpObject(model_file)"
   ]
  },
  {
   "cell_type": "markdown",
   "id": "676bdea9",
   "metadata": {},
   "source": [
    "#### floor shaders"
   ]
  },
  {
   "cell_type": "code",
   "execution_count": null,
   "id": "07f2e498",
   "metadata": {
    "vscode": {
     "languageId": "plaintext"
    }
   },
   "outputs": [],
   "source": [
    "floor_vertex_shader = '''\n",
    "#version 430 core\n",
    "layout (location=0) in vec3 position;\n",
    "layout (location=1) in vec2 uv;\n",
    "\n",
    "uniform mat4 view, perspective, M;\n",
    "\n",
    "out vec2 f_uv;\n",
    "out vec3 f_normal;\n",
    "out vec3 f_position;\n",
    "\n",
    "void main() {\n",
    "    f_uv = uv;\n",
    "    vec4 P = M * vec4(position, 1.0);\n",
    "    f_position = P.xyz;\n",
    "    gl_Position = perspective * view * P;\n",
    "    f_normal = vec3(0.0, 1.0, 0.0);  // Upwards normal for XZ floor\n",
    "}\n",
    "'''\n",
    "\n",
    "floor_fragment_shader = '''\n",
    "#version 430 core\n",
    "in vec2 f_uv;\n",
    "in vec3 f_normal;\n",
    "in vec3 f_position;\n",
    "\n",
    "uniform sampler2D map;\n",
    "uniform vec3 light;\n",
    "\n",
    "out vec4 out_color;\n",
    "\n",
    "vec3 computeColor(){\n",
    "    vec3 L = normalize(light);\n",
    "    vec3 materialColor = texture(map, f_uv).rgb;\n",
    "    vec3 N = normalize(f_normal);\n",
    "    float NdotL = max(dot(N, L), 0.0);\n",
    "    vec3 ambient = 0.1 * materialColor;\n",
    "    vec3 color = ambient;\n",
    "    if (NdotL > 0.0) {\n",
    "        vec3 diffuse = materialColor * NdotL;\n",
    "        color += diffuse;\n",
    "    }\n",
    "    return color;\n",
    "}\n",
    "\n",
    "void main() {\n",
    "    out_color = vec4(computeColor(), 1.0);\n",
    "}\n",
    "'''"
   ]
  },
  {
   "cell_type": "markdown",
   "id": "36222bc8",
   "metadata": {},
   "source": [
    "#### model shaders"
   ]
  },
  {
   "cell_type": "code",
   "execution_count": null,
   "id": "af56be57",
   "metadata": {
    "vscode": {
     "languageId": "plaintext"
    }
   },
   "outputs": [],
   "source": [
    "model_vertex_shader = '''\n",
    "#version 430 core\n",
    "layout (location=0) in vec3 position;\n",
    "layout (location=1) in vec3 normal;\n",
    "layout (location=2) in vec2 uv;\n",
    "\n",
    "layout(binding = 0, std430) readonly buffer InstanceData {\n",
    "    mat4 instanceMatrix[];\n",
    "};\n",
    "\n",
    "uniform mat4 model;        // global model (pre-transform like base-center removal)\n",
    "uniform mat4 view, perspective;\n",
    "\n",
    "out vec2 f_uv;\n",
    "out vec3 f_normal;\n",
    "out vec3 f_position;\n",
    "\n",
    "void main() {\n",
    "    mat4 M = instanceMatrix[gl_InstanceID] * model;\n",
    "    f_uv = uv;\n",
    "    vec4 P = M * vec4(position, 1.0);\n",
    "    f_position = P.xyz;\n",
    "    gl_Position = perspective * view * P;\n",
    "\n",
    "    mat3 normalMatrix = mat3(transpose(inverse(M)));\n",
    "    f_normal = normalize(normalMatrix * normal);\n",
    "}\n",
    "'''\n",
    "\n",
    "model_fragment_shader = '''\n",
    "#version 430 core\n",
    "in vec2 f_uv;\n",
    "in vec3 f_normal;\n",
    "in vec3 f_position;\n",
    "\n",
    "uniform sampler2D map;\n",
    "uniform vec3 light;\n",
    "uniform float shininess;\n",
    "uniform vec3 eye_position;\n",
    "uniform vec3 k_diffuse;\n",
    "\n",
    "out vec4 out_color;\n",
    "\n",
    "vec3 computeColor(){\n",
    "    vec3 L = normalize(light);\n",
    "    vec3 materialColor = texture(map, f_uv).rgb;\n",
    "    vec3 N = normalize(f_normal);\n",
    "    float NdotL = max(dot(N, L), 0.0);\n",
    "    vec3 color = vec3(0.0);\n",
    "    vec3 ambient = 0.1 * materialColor;\n",
    "\n",
    "    if (NdotL > 0.0){\n",
    "        vec3 diffuse = materialColor * NdotL;\n",
    "        vec3 V = normalize(eye_position - f_position);\n",
    "        vec3 H = normalize(L + V);\n",
    "        vec3 specular = vec3(0.0);\n",
    "        if (shininess > 0.0)\n",
    "            specular = vec3(pow(max(dot(N, H), 0.0), shininess));\n",
    "        color = k_diffuse * diffuse + specular;\n",
    "    }\n",
    "    color += ambient;\n",
    "    return color;\n",
    "}\n",
    "\n",
    "void main() {\n",
    "    out_color = vec4(computeColor(), 1.0);\n",
    "}\n",
    "'''"
   ]
  },
  {
   "cell_type": "markdown",
   "id": "c046dd73",
   "metadata": {},
   "source": [
    "#### window & GL setup"
   ]
  },
  {
   "cell_type": "code",
   "execution_count": null,
   "id": "0b045024",
   "metadata": {
    "vscode": {
     "languageId": "plaintext"
    }
   },
   "outputs": [],
   "source": [
    "width, height = 960, 540\n",
    "\n",
    "pygame.init()\n",
    "pygame.display.gl_set_attribute(pygame.GL_MULTISAMPLEBUFFERS, 1)\n",
    "pygame.display.gl_set_attribute(pygame.GL_MULTISAMPLESAMPLES, 16)\n",
    "pygame.display.gl_set_attribute(pygame.GL_CONTEXT_PROFILE_MASK, pygame.GL_CONTEXT_PROFILE_CORE)\n",
    "pygame.display.set_mode((width, height), flags=pygame.OPENGL | pygame.DOUBLEBUF | pygame.RESIZABLE)\n",
    "pygame.display.set_caption(\"Assignment 10: Caitlin Box\")\n",
    "\n",
    "gl = moderngl.get_context()\n",
    "_ = gl.info.get(\"GL_VERSION\")"
   ]
  },
  {
   "cell_type": "markdown",
   "id": "f879b94f",
   "metadata": {},
   "source": [
    "#### programs"
   ]
  },
  {
   "cell_type": "code",
   "execution_count": null,
   "id": "144a66ef",
   "metadata": {
    "vscode": {
     "languageId": "plaintext"
    }
   },
   "outputs": [],
   "source": [
    "model_program = gl.program(vertex_shader=model_vertex_shader, fragment_shader=model_fragment_shader)\n",
    "modelObj.createRenderableAndSampler(model_program)\n",
    "\n",
    "floor_program = gl.program(vertex_shader=floor_vertex_shader, fragment_shader=floor_fragment_shader)\n",
    "\n",
    "# Floor renderable\n",
    "floor_renderable = gl.vertex_array(\n",
    "    floor_program,\n",
    "    [(gl.buffer(floor_geom), \"3f 2f\", \"position\", \"uv\")]\n",
    ")"
   ]
  },
  {
   "cell_type": "markdown",
   "id": "eca616e6",
   "metadata": {},
   "source": [
    "#### floor texture"
   ]
  },
  {
   "cell_type": "code",
   "execution_count": null,
   "id": "c8fc8986",
   "metadata": {
    "vscode": {
     "languageId": "plaintext"
    }
   },
   "outputs": [],
   "source": [
    "texture_img = pygame.image.load(\"floor-wood.jpg\")\n",
    "texture_data = pygame.image.tobytes(texture_img, \"RGB\", True)\n",
    "floor_texture = gl.texture(texture_img.get_size(), components=3, data=texture_data)\n",
    "floor_sampler = gl.sampler(texture=floor_texture)"
   ]
  },
  {
   "cell_type": "markdown",
   "id": "957eb474",
   "metadata": {},
   "source": [
    "#### computation to scale the objs correctly"
   ]
  },
  {
   "cell_type": "code",
   "execution_count": null,
   "id": "aae5fce3",
   "metadata": {
    "vscode": {
     "languageId": "plaintext"
    }
   },
   "outputs": [],
   "source": [
    "min_corner, max_corner = modelObj.bound.boundingBox\n",
    "\n",
    "# base center = mid XZ at bottom Y\n",
    "base_center = glm.vec3(\n",
    "    (min_corner.x + max_corner.x) / 2.0,\n",
    "    min_corner.y,\n",
    "    (min_corner.z + max_corner.z) / 2.0\n",
    ")\n",
    "T_base_to_origin = glm.translate(glm.mat4(1.0), -base_center)\n",
    "\n",
    "# scale model to 75% of cell\n",
    "width_x = max_corner.x - min_corner.x\n",
    "depth_z = max_corner.z - min_corner.z\n",
    "max_footprint = max(width_x, depth_z)\n",
    "cell_target = 0.75 * delta\n",
    "scale_factor = (cell_target / max_footprint) if max_footprint > 0 else 1.0\n",
    "S_fit = glm.scale(glm.mat4(1.0), glm.vec3(scale_factor))\n",
    "\n",
    "pre_model = S_fit * T_base_to_origin\n",
    "\n",
    "matrixList = []\n",
    "minP = glm.vec3(-size/2.0, 0.0, -size/2.0)"
   ]
  },
  {
   "cell_type": "markdown",
   "id": "2cee8d6d",
   "metadata": {},
   "source": [
    "#### creating the instance transformations"
   ]
  },
  {
   "cell_type": "code",
   "execution_count": null,
   "id": "dca86395",
   "metadata": {
    "vscode": {
     "languageId": "plaintext"
    }
   },
   "outputs": [],
   "source": [
    "for i in range(nSubDivisions):\n",
    "    for j in range(nSubDivisions):\n",
    "        # base cell center\n",
    "        base_center_cell = minP + glm.vec3(i*delta + delta/2.0, 0.0, j*delta + delta/2.0)\n",
    "        jitter = rng.uniform(-0.2*delta, 0.2*delta, 2)\n",
    "        cell_center = base_center_cell + glm.vec3(jitter[0], 0.0, jitter[1])\n",
    "\n",
    "        angle_deg = rng.uniform(-30.0, 30.0)\n",
    "        R_y = glm.rotate(glm.mat4(1.0), glm.radians(angle_deg), glm.vec3(0,1,0))\n",
    "        T_cell = glm.translate(glm.mat4(1.0), cell_center)\n",
    "\n",
    "        M_instance = T_cell * R_y * pre_model\n",
    "        matrixList.append([elem for col in M_instance for elem in col])\n",
    "\n",
    "instanceBuffer = gl.buffer(numpy.array(matrixList, dtype=\"float32\"))\n",
    "instanceBuffer.bind_to_storage_buffer(0)"
   ]
  },
  {
   "cell_type": "markdown",
   "id": "43532a04",
   "metadata": {},
   "source": [
    "#### camera & light"
   ]
  },
  {
   "cell_type": "code",
   "execution_count": null,
   "id": "cf37313c",
   "metadata": {
    "vscode": {
     "languageId": "plaintext"
    }
   },
   "outputs": [],
   "source": [
    "init_dir = glm.normalize(glm.vec3(20.0, 10.0, 0.0))\n",
    "orbit_radius = 25.0\n",
    "alpha_deg = 0.0\n",
    "\n",
    "fov_radian = glm.radians(45.0)\n",
    "near, far = 0.1, 200.0\n",
    "aspect = width / height\n",
    "perspectiveMatrix = glm.perspective(fov_radian, aspect, near, far)"
   ]
  },
  {
   "cell_type": "markdown",
   "id": "d0b8608b",
   "metadata": {},
   "source": [
    "#### render loop"
   ]
  },
  {
   "cell_type": "code",
   "execution_count": null,
   "id": "74e178e6",
   "metadata": {
    "vscode": {
     "languageId": "plaintext"
    }
   },
   "outputs": [],
   "source": [
    "running = True\n",
    "clock = pygame.time.Clock()\n",
    "alpha = 0\n",
    "pause = True\n",
    "lightAngle = 0\n",
    "\n",
    "gl.enable(gl.DEPTH_TEST)\n",
    "\n",
    "while running:   \n",
    "    for event in pygame.event.get():\n",
    "        if event.type == pygame.QUIT:\n",
    "            running = False\n",
    "        elif (event.type ==  pygame.KEYDOWN):\n",
    "            if  event.key == 27:\n",
    "                running = False\n",
    "            elif event.key == pygame.K_p:\n",
    "                pause = not pause\n",
    "            elif event.key == pygame.K_LEFT:\n",
    "                lightAngle -= 5\n",
    "            elif event.key == pygame.K_RIGHT:\n",
    "                lightAngle += 5\n",
    "        elif (event.type == pygame.WINDOWRESIZED):\n",
    "            width = event.x\n",
    "            height = event.y\n",
    "            perspectiveMatrix = glm.perspective(fov_radian, width/height, near, far)\n",
    "\n",
    "    rotY = glm.rotate(glm.mat4(1.0), glm.radians(alpha_deg), glm.vec3(0, 1, 0))\n",
    "    cam_dir = glm.vec3(rotY * glm.vec4(init_dir, 0.0))\n",
    "    eye_point = cam_dir * orbit_radius\n",
    "    target_point = glm.vec3(0.0, 0.0, 0.0)\n",
    "    up_vector = glm.vec3(0.0, 1.0, 0.0)\n",
    "    viewMatrix = glm.lookAt(eye_point, target_point, up_vector)\n",
    "\n",
    "    rotY_light = glm.rotate(glm.mat4(1.0), glm.radians(lightAngle), glm.vec3(0, 1, 0))\n",
    "    light_dir = glm.normalize(glm.vec3(rotY_light * glm.vec4(1.0, 1.0, 0.5, 0.0)))\n",
    "\n",
    "    gl.clear(0.05, 0.05, 0.07)\n",
    "\n",
    "    # ---- Draw floor ----\n",
    "    fp = floor_program\n",
    "    fp[\"view\"].write(viewMatrix)\n",
    "    fp[\"perspective\"].write(perspectiveMatrix)\n",
    "    fp[\"M\"].write(glm.mat4(1.0))\n",
    "    fp[\"light\"].write(light_dir)\n",
    "    floor_sampler.use(0)\n",
    "    fp[\"map\"] = 0\n",
    "    floor_renderable.render()\n",
    "\n",
    "    # ---- Draw models ----\n",
    "    mp = modelObj.program\n",
    "    mp[\"view\"].write(viewMatrix)\n",
    "    mp[\"perspective\"].write(perspectiveMatrix)\n",
    "    mp[\"light\"].write(light_dir)\n",
    "    mp[\"shininess\"].value = 32.0\n",
    "    mp[\"k_diffuse\"].write(glm.vec3(1.0, 1.0, 1.0))\n",
    "    mp[\"eye_position\"].write(eye_point)\n",
    "    mp[\"model\"].write(glm.mat4(1.0))\n",
    "    modelObj.render(nInstances=totalInstances)\n",
    "\n",
    "    pygame.display.flip()\n",
    "    clock.tick(60)\n",
    "\n",
    "    if not pause:\n",
    "        alpha_deg = (alpha_deg + 30.0 * (1.0 / 60.0)) % 360.0\n",
    "\n",
    "pygame.display.quit()"
   ]
  }
 ],
 "metadata": {
  "language_info": {
   "name": "python"
  }
 },
 "nbformat": 4,
 "nbformat_minor": 5
}
