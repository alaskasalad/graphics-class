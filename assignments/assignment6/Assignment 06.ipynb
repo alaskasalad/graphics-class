{
 "cells": [
  {
   "cell_type": "markdown",
   "id": "7454895b",
   "metadata": {},
   "source": [
    "### Assignment 6: Caitlin Box"
   ]
  },
  {
   "cell_type": "code",
   "execution_count": 9,
   "id": "a5bf56ff",
   "metadata": {},
   "outputs": [],
   "source": [
    "import pygame\n",
    "import moderngl\n",
    "import numpy\n",
    "import glm\n",
    "from LoadObject import getObjectData"
   ]
  },
  {
   "cell_type": "code",
   "execution_count": 10,
   "id": "64a39e7e",
   "metadata": {},
   "outputs": [
    {
     "data": {
      "text/plain": [
       "'4.6.0 - Build 32.0.101.6881'"
      ]
     },
     "execution_count": 10,
     "metadata": {},
     "output_type": "execute_result"
    }
   ],
   "source": [
    "pygame.init()\n",
    "\n",
    "width = 840\n",
    "height = 480\n",
    "pygame.display.gl_set_attribute(pygame.GL_CONTEXT_PROFILE_MASK, pygame.GL_CONTEXT_PROFILE_CORE) \n",
    "pygame.display.set_mode((width, height), flags= pygame.OPENGL | pygame.DOUBLEBUF | pygame.RESIZABLE)\n",
    "pygame.display.set_caption(title = \"Assignment 06: Mustaeen Ahmed\")\n",
    "gl = moderngl.get_context()\n",
    "gl.info[\"GL_VERSION\"]"
   ]
  },
  {
   "cell_type": "markdown",
   "id": "406205fe",
   "metadata": {},
   "source": [
    "#### Get geometry data and load it to a GPU Buffer"
   ]
  },
  {
   "cell_type": "code",
   "execution_count": 11,
   "id": "b87dc893",
   "metadata": {},
   "outputs": [
    {
     "name": "stdout",
     "output_type": "stream",
     "text": [
      "Vertex position Count:  530 (5.929688, 4.125, 0.0)\n",
      "Vertex normal Count:  530 (-0.966742, -0.255752, 0.0)\n",
      "Vertex texture coordinate Count:  800 (2.0, 2.0, 0.0)\n",
      "Face count:  992.0\n",
      "texture exists\n"
     ]
    }
   ],
   "source": [
    "geomData, bound = getObjectData(\"teapot_with_texCoords.obj\", texture=True)\n",
    "\n",
    "geomBuffer = gl.buffer(geomData)"
   ]
  },
  {
   "cell_type": "markdown",
   "id": "01aa5f7d",
   "metadata": {},
   "source": [
    "#### Vertex Shaders"
   ]
  },
  {
   "cell_type": "code",
   "execution_count": 12,
   "id": "02bf50c6",
   "metadata": {},
   "outputs": [],
   "source": [
    "face_vertex_shader_code = '''\n",
    "#version 330 core\n",
    "\n",
    "layout (location=0) in vec3 position;\n",
    "layout (location=1) in vec2 uv;\n",
    "\n",
    "out vec2 f_uv; // Texture coordinate\n",
    "uniform mat4 view, perspective;\n",
    "\n",
    "void main() {\n",
    "    f_uv = uv;\n",
    "    gl_Position = perspective*view*vec4(position, 1.0);\n",
    "}\n",
    "'''\n",
    "\n",
    "face_fragment_shader_code = '''\n",
    "#version 330 core\n",
    "in vec2 f_uv;\n",
    "uniform sampler2D map;\n",
    "// Add output variable here\n",
    "out vec4 color;\n",
    "\n",
    "void main() {\n",
    "    //set output color value here\n",
    "    color = texture(map, f_uv);\n",
    "}\n",
    "'''"
   ]
  },
  {
   "cell_type": "markdown",
   "id": "6c721235",
   "metadata": {},
   "source": [
    "#### Programs and renderables"
   ]
  },
  {
   "cell_type": "code",
   "execution_count": 13,
   "id": "fe1c6708",
   "metadata": {},
   "outputs": [],
   "source": [
    "face_program = gl.program(\n",
    "    vertex_shader= face_vertex_shader_code,\n",
    "    fragment_shader= face_fragment_shader_code\n",
    ")\n",
    "\n",
    "face_renderable = gl.vertex_array(face_program,\n",
    "    [(geomBuffer, \"3f 2f\", \"position\", \"uv\")]\n",
    ")"
   ]
  },
  {
   "cell_type": "markdown",
   "id": "322b7c7d",
   "metadata": {},
   "source": [
    "#### Create texture object, specify filter and wrap option"
   ]
  },
  {
   "cell_type": "code",
   "execution_count": 14,
   "id": "fe78434a",
   "metadata": {},
   "outputs": [],
   "source": [
    "texture_img = pygame.image.load(\"brick.jpg\") \n",
    "texture_data = pygame.image.tobytes(texture_img,\"RGB\", True) \n",
    "faceTexture = gl.texture(texture_img.get_size(), data = texture_data, components=3)\n",
    "\n",
    "faceTexture.build_mipmaps()\n",
    "\n",
    "faceSampler = gl.sampler(texture=faceTexture, filter=(gl.LINEAR_MIPMAP_LINEAR, gl.LINEAR)) "
   ]
  },
  {
   "cell_type": "markdown",
   "id": "08c9f3c3",
   "metadata": {},
   "source": [
    "#### Define Camera Parameters\n",
    "the camera parameters for view transformation matrix computation are: eye_point, lookat_point/target_point, & up_vector"
   ]
  },
  {
   "cell_type": "code",
   "execution_count": 15,
   "id": "bc81520f",
   "metadata": {},
   "outputs": [],
   "source": [
    "### Camera parameters\n",
    "displacement = 2 * bound.radius * glm.rotate(glm.vec3(0,1,0), glm.radians(60), glm.vec3(1,0,0))\n",
    "target_point = glm.vec3(bound.center)\n",
    "up_vector = glm.vec3(0,1,0)\n",
    "\n",
    "\n",
    "### View volume parameters\n",
    "fov = glm.radians(45)\n",
    "aspect = width/height\n",
    "near = bound.radius\n",
    "far = 3 * bound.radius\n",
    "\n",
    "perspectiveMatrix = glm.perspective(fov, width/height, near, far)"
   ]
  },
  {
   "cell_type": "markdown",
   "id": "ae7854ed",
   "metadata": {},
   "source": [
    "#### Render loop"
   ]
  },
  {
   "cell_type": "code",
   "execution_count": 16,
   "id": "9253d8ff",
   "metadata": {},
   "outputs": [],
   "source": [
    "running = True\n",
    "clock = pygame.time.Clock()\n",
    "alpha = 0\n",
    "gl.enable(gl.DEPTH_TEST)\n",
    "\n",
    "while running:   \n",
    "    for event in pygame.event.get():\n",
    "        # 27 is the esc key\n",
    "        if event.type == pygame.QUIT or (event.type == pygame.KEYDOWN and event.key == 27):\n",
    "            running = False\n",
    "        elif (event.type == pygame.WINDOWRESIZED):\n",
    "            width = event.x\n",
    "            height = event.y\n",
    "            perspectiveMatrix = glm.perspective(fov, width/height, near, far)\n",
    "\n",
    "    # aspect ratio\n",
    "    eye_point = glm.vec3(bound.center) + glm.rotate(displacement, glm.radians(alpha), glm.vec3(0,1,0))\n",
    "    viewMatrix = glm.lookAt(eye_point, target_point, up_vector)\n",
    "    \n",
    "    gl.clear(0.0,0.0,0.0) # background color\n",
    "    \n",
    "    face_program[\"view\"].write(viewMatrix)\n",
    "    face_program[\"perspective\"].write(perspectiveMatrix)\n",
    "    \n",
    "    faceSampler.use(0)\n",
    "    face_program[\"map\"] = 0\n",
    "    face_renderable.render(moderngl.TRIANGLES)\n",
    "    \n",
    "    pygame.display.flip()\n",
    "    clock.tick(60)\n",
    "    # make it move\n",
    "    alpha = alpha + 1\n",
    "    if alpha > 360:\n",
    "        alpha = 0\n",
    "\n",
    "pygame.display.quit()"
   ]
  }
 ],
 "metadata": {
  "kernelspec": {
   "display_name": "Python 3",
   "language": "python",
   "name": "python3"
  },
  "language_info": {
   "codemirror_mode": {
    "name": "ipython",
    "version": 3
   },
   "file_extension": ".py",
   "mimetype": "text/x-python",
   "name": "python",
   "nbconvert_exporter": "python",
   "pygments_lexer": "ipython3",
   "version": "3.12.6"
  }
 },
 "nbformat": 4,
 "nbformat_minor": 5
}
