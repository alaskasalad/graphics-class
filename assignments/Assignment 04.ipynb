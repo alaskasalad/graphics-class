{
 "cells": [
  {
   "cell_type": "markdown",
   "id": "497233b8",
   "metadata": {},
   "source": [
    "Assignment 3: Caitlin Box"
   ]
  },
  {
   "cell_type": "code",
   "execution_count": 99,
   "id": "76421e0b",
   "metadata": {},
   "outputs": [],
   "source": [
    "import pygame\n",
    "import moderngl\n",
    "from math import cos, sin, radians\n",
    "import numpy as np"
   ]
  },
  {
   "cell_type": "code",
   "execution_count": 100,
   "id": "5afcbd77",
   "metadata": {},
   "outputs": [
    {
     "data": {
      "text/plain": [
       "(5, 0)"
      ]
     },
     "execution_count": 100,
     "metadata": {},
     "output_type": "execute_result"
    }
   ],
   "source": [
    "WIDTH = 600\n",
    "HEIGHT = 600\n",
    "aspect_ratio = WIDTH / HEIGHT\n",
    "pygame.init()"
   ]
  },
  {
   "cell_type": "code",
   "execution_count": 101,
   "id": "3168f3a1",
   "metadata": {},
   "outputs": [],
   "source": [
    "pygame.display.set_mode((HEIGHT, WIDTH), flags= pygame.OPENGL | pygame.DOUBLEBUF | pygame.RESIZABLE)\n",
    "pygame.display.set_caption(title=\"Assignment 4: Caitlin Box\")\n",
    "gl = moderngl.get_context()"
   ]
  },
  {
   "cell_type": "code",
   "execution_count": 102,
   "id": "319a53e4",
   "metadata": {},
   "outputs": [],
   "source": [
    "# two different triangles to make diamond \n",
    "position_data = [\n",
    "    #x    y \n",
    "    0.0, 0.8,\n",
    "    0.8, 0.0,\n",
    "    -0.8, 0.0,\n",
    "\n",
    "    0.0, -0.8,\n",
    "    0.8, 0.0,\n",
    "    -0.8, 0.0\n",
    "]\n",
    "triangle_vertex_positins = np.array(position_data).astype(\"float32\")\n",
    "triangle_position_buffer = gl.buffer(triangle_vertex_positins)"
   ]
  },
  {
   "cell_type": "markdown",
   "id": "506ae8d6",
   "metadata": {},
   "source": [
    "Fragment Shader \n",
    "    inColor will allow us to assignment different colors to different objects "
   ]
  },
  {
   "cell_type": "code",
   "execution_count": 103,
   "id": "7b7a5b65",
   "metadata": {},
   "outputs": [],
   "source": [
    "fragment_shader_code = '''\n",
    "#version 330 core\n",
    "\n",
    "out vec4 color; \n",
    "uniform vec3 inColor; \n",
    "\n",
    "void main(){\n",
    "    color = vec4(inColor, 0);\n",
    "}\n",
    "'''"
   ]
  },
  {
   "cell_type": "markdown",
   "id": "80bf32b0",
   "metadata": {},
   "source": [
    "Vertex Shader \n",
    "    The logic for what we need for the different shapes, having uniform will allow us to assign different measurments as needed "
   ]
  },
  {
   "cell_type": "code",
   "execution_count": 104,
   "id": "8c9759a9",
   "metadata": {},
   "outputs": [],
   "source": [
    "vertex_shader_code = '''\n",
    "#version 330 core\n",
    "\n",
    "layout (location = 0) in vec2 inPosition;\n",
    "\n",
    "uniform float scale;\n",
    "uniform float distance;\n",
    "uniform mat2 M;\n",
    "\n",
    "void main() {\n",
    "    vec2 d_vector = distance * vec2(1, 0); \n",
    "    vec2 P = inPosition * scale + d_vector;\n",
    "\n",
    "    gl_Position = vec4(M * P, 0.0, 1.0); \n",
    "}\n",
    "'''\n",
    "vertex_shader_code_line = '''\n",
    "#version 330 core\n",
    "\n",
    "uniform float distance;\n",
    "uniform mat2 M;\n",
    "\n",
    "void main() {\n",
    "    vec2 P = vec2(0);\n",
    "    if (gl_VertexID > 0) {\n",
    "        // Match diamond's displacement vector\n",
    "        vec2 displacement_vector = distance * vec2(1, 0);\n",
    "        P += displacement_vector;\n",
    "    }\n",
    "\n",
    "    gl_Position = vec4(M * P, 0.0, 1.0);\n",
    "}\n",
    "'''"
   ]
  },
  {
   "cell_type": "code",
   "execution_count": 105,
   "id": "619fd505",
   "metadata": {},
   "outputs": [],
   "source": [
    "program = gl.program(\n",
    "    vertex_shader = vertex_shader_code,\n",
    "    fragment_shader = fragment_shader_code\n",
    ")\n",
    "program_line = gl.program(\n",
    "    vertex_shader = vertex_shader_code_line,\n",
    "    fragment_shader = fragment_shader_code\n",
    ")"
   ]
  },
  {
   "cell_type": "code",
   "execution_count": 106,
   "id": "6d9867ad",
   "metadata": {},
   "outputs": [],
   "source": [
    "renderable = gl.vertex_array(program,\n",
    "    [(triangle_position_buffer, \"2f\", \"inPosition\")])\n",
    "\n",
    "line_renderable = gl.vertex_array(program_line, [])"
   ]
  },
  {
   "cell_type": "code",
   "execution_count": 107,
   "id": "a55ac0ff",
   "metadata": {},
   "outputs": [],
   "source": [
    "running = True\n",
    "clock = pygame.time.Clock()\n",
    "angle = 270\n",
    "\n",
    "while running:\n",
    "    for event in pygame.event.get():\n",
    "        if event.type == pygame.QUIT or (event.type == pygame.KEYDOWN and event.key==27):\n",
    "            running = False\n",
    "        elif event.type == pygame.VIDEORESIZE:\n",
    "            WIDTH, HEIGHT = event.size  # update global variables!\n",
    "            aspect_ratio = WIDTH / HEIGHT\n",
    "            screen = pygame.display.set_mode((WIDTH, HEIGHT), pygame.OPENGL | pygame.DOUBLEBUF | pygame.RESIZABLE)\n",
    "\n",
    "    gl.clear(0.5, 0.5, 0) # background color \n",
    "\n",
    "    aspect_ratio = WIDTH / HEIGHT\n",
    "    angle_rad = radians(-angle)\n",
    "\n",
    "    M = np.array([\n",
    "        [cos(angle_rad) / aspect_ratio, -sin(angle_rad) / aspect_ratio],\n",
    "        [sin(angle_rad),                 cos(angle_rad)]\n",
    "    ], dtype='f4')\n",
    "\n",
    "    program['M'].write(M.T.tobytes())  \n",
    "    program_line['M'].write(M.T.tobytes())\n",
    "    \n",
    "    # first diamond \n",
    "    # scale changes diamond size \n",
    "    program ['scale'] = 0.1\n",
    "    program ['distance'] = 0\n",
    "    program['inColor'] = [1,1,0]\n",
    "    renderable.render(moderngl.TRIANGLES, vertices = 6) \n",
    "\n",
    "    # changing location of the second diamond \n",
    "    program ['distance'] = 0.8\n",
    "    renderable.render(moderngl.TRIANGLES, vertices = 6) \n",
    "\n",
    "    # creating the line \n",
    "    program_line ['distance'] = 0.8\n",
    "    line_renderable.render(moderngl.LINES, vertices = 2)\n",
    "\n",
    "    pygame.display.flip()\n",
    "    clock.tick(60)\n",
    "\n",
    "    # make the angle change so the shapes will roate on screen \n",
    "    angle = angle + 0.1\n",
    "    if angle > 360:\n",
    "        angle = 0\n",
    "\n",
    "pygame.quit()"
   ]
  }
 ],
 "metadata": {
  "kernelspec": {
   "display_name": "Python 3",
   "language": "python",
   "name": "python3"
  },
  "language_info": {
   "codemirror_mode": {
    "name": "ipython",
    "version": 3
   },
   "file_extension": ".py",
   "mimetype": "text/x-python",
   "name": "python",
   "nbconvert_exporter": "python",
   "pygments_lexer": "ipython3",
   "version": "3.12.6"
  }
 },
 "nbformat": 4,
 "nbformat_minor": 5
}
