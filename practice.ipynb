{
 "cells": [
  {
   "cell_type": "code",
   "execution_count": 15,
   "id": "c0716cd0",
   "metadata": {},
   "outputs": [],
   "source": [
    "import pygame\n",
    "import moderngl \n",
    "import numpy"
   ]
  },
  {
   "cell_type": "code",
   "execution_count": 16,
   "id": "0abd9e0f",
   "metadata": {},
   "outputs": [
    {
     "data": {
      "text/plain": [
       "(5, 0)"
      ]
     },
     "execution_count": 16,
     "metadata": {},
     "output_type": "execute_result"
    }
   ],
   "source": [
    "pygame.init()"
   ]
  },
  {
   "cell_type": "code",
   "execution_count": 17,
   "id": "25c5737b",
   "metadata": {},
   "outputs": [],
   "source": [
    "width = 600\n",
    "height = 600\n",
    "pygame.display.set_mode((width, height), flags= pygame.OPENGL | pygame.DOUBLEBUF)\n",
    "pygame.display.set_caption(title=\"Class Practice\")\n",
    "gl = moderngl.get_context()"
   ]
  },
  {
   "cell_type": "code",
   "execution_count": 18,
   "id": "dd465122",
   "metadata": {},
   "outputs": [
    {
     "data": {
      "text/plain": [
       "'4.6.0 - Build 32.0.101.6647'"
      ]
     },
     "execution_count": 18,
     "metadata": {},
     "output_type": "execute_result"
    }
   ],
   "source": [
    "gl.info[\"GL_VERSION\"]"
   ]
  },
  {
   "cell_type": "code",
   "execution_count": 19,
   "id": "887adbf3",
   "metadata": {},
   "outputs": [],
   "source": [
    "position_data = [\n",
    "    0.0, 0.8,\n",
    "    -0.8, -0.8,\n",
    "    0.8, -0.8\n",
    "]\n",
    "triangle_vertext_positins = numpy.array(position_data).astype(\"float32\")\n",
    "triangle_position_buffer = gl.buffer(triangle_vertext_positins)"
   ]
  },
  {
   "cell_type": "code",
   "execution_count": 20,
   "id": "d1292ae9",
   "metadata": {},
   "outputs": [],
   "source": [
    "fragment_shader_code = '''\n",
    "#version 330 core\n",
    "\n",
    "out vec4 color; \n",
    "\n",
    "void main(){\n",
    "    color = vec4(1, 0, 1, 1);\n",
    "}\n",
    "'''\n",
    "\n",
    "vertext_shader_code = '''\n",
    "#version 330 core \n",
    "\n",
    "layout (location = 0) in vec2 position; \n",
    "\n",
    "void main() {\n",
    "    gl_Position = vec4(position, 0.0, 1.0); \n",
    "}\n",
    "'''"
   ]
  },
  {
   "cell_type": "code",
   "execution_count": 21,
   "id": "ea2f0a45",
   "metadata": {},
   "outputs": [],
   "source": [
    "program = gl.program(\n",
    "    vertex_shader = vertext_shader_code,\n",
    "    fragment_shader = fragment_shader_code\n",
    ")"
   ]
  },
  {
   "cell_type": "code",
   "execution_count": 22,
   "id": "a66169ae",
   "metadata": {},
   "outputs": [],
   "source": [
    "renderable = gl.vertex_array(program,\n",
    "    [( triangle_position_buffer, \"2f\", \"position\")]\n",
    ")"
   ]
  },
  {
   "cell_type": "code",
   "execution_count": 23,
   "id": "0c700c5c",
   "metadata": {},
   "outputs": [],
   "source": [
    "running = True\n",
    "clock = pygame.time.Clock()\n",
    "while running:\n",
    "    for event in pygame.event.get():\n",
    "        if event.type == pygame.QUIT or (event.type == pygame.KEYDOWN and event.key==27):\n",
    "            running = False\n",
    "    \n",
    "    gl.clear(0.2, 0.2, 0.2)\n",
    "    renderable.render()\n",
    "\n",
    "    pygame.display.flip()\n",
    "    clock.tick(10)\n",
    "\n",
    "pygame.quit()"
   ]
  }
 ],
 "metadata": {
  "kernelspec": {
   "display_name": "Python 3",
   "language": "python",
   "name": "python3"
  },
  "language_info": {
   "codemirror_mode": {
    "name": "ipython",
    "version": 3
   },
   "file_extension": ".py",
   "mimetype": "text/x-python",
   "name": "python",
   "nbconvert_exporter": "python",
   "pygments_lexer": "ipython3",
   "version": "3.12.6"
  }
 },
 "nbformat": 4,
 "nbformat_minor": 5
}
