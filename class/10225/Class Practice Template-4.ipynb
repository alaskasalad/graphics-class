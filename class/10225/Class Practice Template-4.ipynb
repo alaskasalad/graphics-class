{
 "cells": [
  {
   "cell_type": "markdown",
   "id": "9ae702dd-1048-4ec2-ae45-57cf28deb652",
   "metadata": {},
   "source": [
    "# Class Practice Session"
   ]
  },
  {
   "cell_type": "markdown",
   "id": "a81f9363-fc5e-46f9-9997-a9b3000d274e",
   "metadata": {},
   "source": [
    "## Goal:\n",
    "- OpenGL Rendering using vertex buffer and index buffer\n",
    "- Using Assimp reader to read and render models in .gltf format"
   ]
  },
  {
   "cell_type": "markdown",
   "id": "a4740fa5-1787-43f7-bb19-85c685937e97",
   "metadata": {},
   "source": [
    "## Change from Assignment 6\n",
    "- Replace Obj Reader with Assimp reader.\n",
    "  - We will import assimp_py\n",
    "  - We will use the helper file for loading model data: \"from loadModelUsingAssimp_V1 import getObjectDataList\"\n",
    "  - \"getObjectDataList\" takes a file (filepath) as the first parameter and an optional verbose value as True/False for verbose output. getObjectDataList returns a number of values. They are: geomDataList, indexDataList, bounds, texNames, scene. The scene file is needed for traversal of the Hierarchical part of the scene graph.\n",
    "- Use model transformations in vertex shader in addition to view and perspective transformations.\n",
    "- Create a list of renderables and create an associated list of texture files\n",
    "  - Renderable using indexData needs additional parameters to the ctx.vertex_array method. For ex: if gl is the ctx then you will use gl.vertex_array(program,(program,[(geomBuffer, \"3f 2f\", \"position\", \"uv\")],index_buffer=indexBuffer,index_element_size=4) to create a renderable.\n",
    "- Recursive traversal of the hierarchical part of the scene graph for rendering"
   ]
  },
  {
   "cell_type": "markdown",
   "id": "391e7081-48c0-404c-9fa4-efac4c8264f6",
   "metadata": {},
   "source": [
    "## Imports"
   ]
  },
  {
   "cell_type": "code",
   "execution_count": 1,
   "id": "a82fe536-3dbb-46c0-a225-a51b93bd9695",
   "metadata": {},
   "outputs": [
    {
     "name": "stdout",
     "output_type": "stream",
     "text": [
      "pygame 2.6.1 (SDL 2.28.4, Python 3.12.6)\n",
      "Hello from the pygame community. https://www.pygame.org/contribute.html\n"
     ]
    },
    {
     "ename": "ModuleNotFoundError",
     "evalue": "No module named 'loadModelUsingAssimp_V1'",
     "output_type": "error",
     "traceback": [
      "\u001b[31m---------------------------------------------------------------------------\u001b[39m",
      "\u001b[31mModuleNotFoundError\u001b[39m                       Traceback (most recent call last)",
      "\u001b[36mCell\u001b[39m\u001b[36m \u001b[39m\u001b[32mIn[1]\u001b[39m\u001b[32m, line 6\u001b[39m\n\u001b[32m      4\u001b[39m \u001b[38;5;28;01mimport\u001b[39;00m\u001b[38;5;250m \u001b[39m\u001b[34;01mglm\u001b[39;00m\n\u001b[32m      5\u001b[39m \u001b[38;5;28;01mfrom\u001b[39;00m\u001b[38;5;250m \u001b[39m\u001b[34;01mpyglm\u001b[39;00m\u001b[38;5;250m \u001b[39m\u001b[38;5;28;01mimport\u001b[39;00m glm\n\u001b[32m----> \u001b[39m\u001b[32m6\u001b[39m \u001b[38;5;28;01mfrom\u001b[39;00m\u001b[38;5;250m \u001b[39m\u001b[34;01mloadModelUsingAssimp_V1\u001b[39;00m\u001b[38;5;250m \u001b[39m\u001b[38;5;28;01mimport\u001b[39;00m getObjectDataList\n",
      "\u001b[31mModuleNotFoundError\u001b[39m: No module named 'loadModelUsingAssimp_V1'"
     ]
    }
   ],
   "source": [
    "import pygame\n",
    "import moderngl\n",
    "import numpy\n",
    "import glm\n",
    "from pyglm import glm\n",
    "from loadModelUsingAssimp_V1 import getObjectDataList"
   ]
  },
  {
   "cell_type": "markdown",
   "id": "18e76980",
   "metadata": {},
   "source": [
    "### start using the Assimp parser with the helper"
   ]
  },
  {
   "cell_type": "code",
   "execution_count": null,
   "id": "425e4a74",
   "metadata": {},
   "outputs": [],
   "source": [
    "geomDataList, indexDataList, bound, texNames, scene = getObjectDataList(\"boxTextured/BoxTextured.gltf\", True) # holy_cow/scene.gltf, got rid of true? "
   ]
  },
  {
   "cell_type": "markdown",
   "id": "14302eb9-4bce-4547-9aa5-3a84d103a8d6",
   "metadata": {},
   "source": [
    "## Intialize"
   ]
  },
  {
   "cell_type": "code",
   "execution_count": null,
   "id": "04f0149d-8ea2-46b9-937f-36322098cc2f",
   "metadata": {},
   "outputs": [
    {
     "data": {
      "text/plain": [
       "'4.6.0 - Build 32.0.101.6881'"
      ]
     },
     "execution_count": 2,
     "metadata": {},
     "output_type": "execute_result"
    }
   ],
   "source": [
    "pygame.init() # Initlizes its different modules. Display module is one of them.\n",
    "\n",
    "width = 840\n",
    "height = 480\n",
    "pygame.display.gl_set_attribute(pygame.GL_CONTEXT_PROFILE_MASK, pygame.GL_CONTEXT_PROFILE_CORE) \n",
    "pygame.display.set_mode((width, height), flags= pygame.OPENGL | pygame.DOUBLEBUF | pygame.RESIZABLE)\n",
    "pygame.display.set_caption(title = \"Class Practice: Instructor\")\n",
    "gl = moderngl.get_context() # Get Previously created context.\n",
    "gl.info[\"GL_VERSION\"]"
   ]
  },
  {
   "cell_type": "markdown",
   "id": "c83863e7-ffe6-4990-95d5-e6387fe1a201",
   "metadata": {},
   "source": [
    "## Create shader program(s) and Renderables"
   ]
  },
  {
   "cell_type": "markdown",
   "id": "1c90d113-6362-424c-9588-5072b3acb168",
   "metadata": {},
   "source": [
    "#### Shaders"
   ]
  },
  {
   "cell_type": "code",
   "execution_count": null,
   "id": "f4105d76-7fcb-4451-a704-57d8fd0c9162",
   "metadata": {},
   "outputs": [],
   "source": [
    "#\n",
    "# Vertex shader(s)\n",
    "#\n",
    "vertex_shader_code = '''\n",
    "#version 330 core\n",
    "layout (location=0) in vec3 position;\n",
    "layout (location=1) in vec2 uv;\n",
    "\n",
    "uniform mat4 model, view, perspective;\n",
    "out vec2 f_uv; // Texture coordinate\n",
    "\n",
    "void main() {\n",
    "    f_uv = uv;\n",
    "    vec4 P = perspective*view*model*vec4(position, 1);\n",
    "    gl_Position = P;\n",
    "}\n",
    "'''\n",
    "\n",
    "#\n",
    "# Fragment shader(s)\n",
    "#\n",
    "fragment_shader_code = '''\n",
    "#version 330 core\n",
    "in vec2 f_uv;\n",
    "uniform sampler2D map;\n",
    "// Add output variable here\n",
    "out vec4 color;\n",
    "\n",
    "void main() {\n",
    "    //set output color value here\n",
    "    color = texture(map, f_uv);\n",
    "}\n",
    "'''\n",
    "#\n",
    "# Programs\n",
    "#\n",
    "\n",
    "program = gl.program(\n",
    "    vertex_shader= vertex_shader_code,\n",
    "    fragment_shader= fragment_shader_code\n",
    ")"
   ]
  },
  {
   "cell_type": "markdown",
   "id": "24d45d3d-f921-4a7f-9489-fe94e4a416e8",
   "metadata": {},
   "source": [
    "### Renderable(s): Buffer(s), Vertex Array"
   ]
  },
  {
   "cell_type": "markdown",
   "id": "f01d4af4-6cc4-46c7-88cc-aacb7671c3dd",
   "metadata": {},
   "source": [
    "#### We will revisit our Clock face example where we wanted a square (quad) clockface whoses position and texture coordinates of each vertex are as follows:\n",
    "```\n",
    "    -1, -1, 0,   0, 0, # bottom left corner  \n",
    "     1, -1, 0,   1, 0, # bottom right corner  \n",
    "     1,  1, 0,   1, 1, # top right corner\n",
    "    -1,  1, 0,   0, 1  # top left corner\n",
    "```\n",
    "But we ended up using 6 vertices to render two arrays. Duplicating two of the vertices. The index of the vertices are as follow\n",
    "```\n",
    "    0, 1, 2, # For the first triangle\n",
    "    2, 3, 0  # for the second triangle\n",
    "```\n",
    "We will remove this redundancy by using only 4 verices, but create the triangle faces by providing indices of the vertex array. That would requie us to load the index array (numpy array of int4 type to a buffer and add the index buffer to the vertex_array to create the renderable. For ex: gl.vertex_array(program,(program,[(geomBuffer, \"3f 2f\", \"position\", \"uv\")],index_buffer=indexBuffer,index_element_size=4)"
   ]
  },
  {
   "cell_type": "code",
   "execution_count": null,
   "id": "46be8f56-d8d4-474c-8d4c-5cea9c646720",
   "metadata": {},
   "outputs": [],
   "source": [
    "# geomDataList, indexDataList\n",
    "renderables = []\n",
    "for i, geomData in enumerate(geomDataList):\n",
    "\n",
    "    geomBuffer = gl.buffer(geomData)\n",
    "    indexBuffer = gl.buffer(indexDataList[i])\n",
    "\n",
    "    renderable = gl.vertex_array(program,\n",
    "        [(geomBuffer, \"3f 2f\", \"position\", \"uv\")], index_buffer=indexBuffer,index_element_size=4\n",
    "    )\n",
    "    renderables.append(renderable)"
   ]
  },
  {
   "cell_type": "code",
   "execution_count": null,
   "id": "b1a043fb",
   "metadata": {},
   "outputs": [
    {
     "ename": "NameError",
     "evalue": "name 'texNames' is not defined",
     "output_type": "error",
     "traceback": [
      "\u001b[31m---------------------------------------------------------------------------\u001b[39m",
      "\u001b[31mNameError\u001b[39m                                 Traceback (most recent call last)",
      "\u001b[36mCell\u001b[39m\u001b[36m \u001b[39m\u001b[32mIn[1]\u001b[39m\u001b[32m, line 1\u001b[39m\n\u001b[32m----> \u001b[39m\u001b[32m1\u001b[39m \u001b[43mtexNames\u001b[49m\n",
      "\u001b[31mNameError\u001b[39m: name 'texNames' is not defined"
     ]
    }
   ],
   "source": [
    "texNames # from holy_cow/textures/Material__25_baseColor.png ? "
   ]
  },
  {
   "cell_type": "markdown",
   "id": "457b1ecd-e9df-4c9d-8f63-40ca0cfbc245",
   "metadata": {},
   "source": [
    "### Create Texture object and specify filter and wrap options."
   ]
  },
  {
   "cell_type": "code",
   "execution_count": null,
   "id": "8e63e375-fcb0-4d50-8119-999afcb890a1",
   "metadata": {},
   "outputs": [],
   "source": [
    "# texNames\n",
    "for i, texName in enumerate(texNames): \n",
    "    texture_img = pygame.image.load(texName) # clock face change to texName\n",
    "    texture_data = pygame.image.tobytes(texture_img,\"RGB\", True) \n",
    "    texture = gl.texture(texture_img.get_size(), data = texture_data, components=3)\n",
    "    texture.build_mipmaps()\n",
    "    sampler = gl.sampler(texture=texture, filter=(gl.LINEAR_MIPMAP_LINEAR, gl.LINEAR), repeat_x = True, repeat_y = True)\n",
    "    sampler.use(i)"
   ]
  },
  {
   "cell_type": "markdown",
   "id": "36fcac26-73a6-4e74-b5b7-e782a7aefdb9",
   "metadata": {},
   "source": [
    "### Define Camera Parameters"
   ]
  },
  {
   "cell_type": "code",
   "execution_count": null,
   "id": "e8320265-d594-4aef-b98e-5d8d102e325b",
   "metadata": {},
   "outputs": [
    {
     "ename": "AttributeError",
     "evalue": "module 'glm' has no attribute 'vec3'",
     "output_type": "error",
     "traceback": [
      "\u001b[31m---------------------------------------------------------------------------\u001b[39m",
      "\u001b[31mAttributeError\u001b[39m                            Traceback (most recent call last)",
      "\u001b[36mCell\u001b[39m\u001b[36m \u001b[39m\u001b[32mIn[6]\u001b[39m\u001b[32m, line 1\u001b[39m\n\u001b[32m----> \u001b[39m\u001b[32m1\u001b[39m displacement_vector = \u001b[32m2\u001b[39m*bound.radius*\u001b[43mglm\u001b[49m\u001b[43m.\u001b[49m\u001b[43mvec3\u001b[49m(\u001b[32m0\u001b[39m,\u001b[32m0\u001b[39m,\u001b[32m1\u001b[39m) \u001b[38;5;66;03m#glm.rotate(glm.vec3(0,1,0), glm.radians(60), glm.vec3(1,0,0)) #\u001b[39;00m\n\u001b[32m      3\u001b[39m target_point = glm.vec3(bound.center)\n\u001b[32m      4\u001b[39m up_vector = glm.vec3(\u001b[32m0\u001b[39m,\u001b[32m1\u001b[39m,\u001b[32m0\u001b[39m)\n",
      "\u001b[31mAttributeError\u001b[39m: module 'glm' has no attribute 'vec3'"
     ]
    }
   ],
   "source": [
    "displacement_vector = 2*bound.radius*glm.vec3(0,0,1) #glm.rotate(glm.vec3(0,1,0), glm.radians(60), glm.vec3(1,0,0)) #\n",
    "    \n",
    "target_point = glm.vec3(bound.center)\n",
    "up_vector = glm.vec3(0,1,0)\n",
    "\n",
    "width = 840\n",
    "height = 480\n",
    "### View volume parameters\n",
    "fov_radian = glm.radians(45) # In radian\n",
    "aspect = width/height\n",
    "near = bound.radius\n",
    "far = 3*bound.radius\n",
    "perspectiveMatrix = glm.perspective(fov_radian, aspect, near, far)"
   ]
  },
  {
   "cell_type": "markdown",
   "id": "fce1d2e1-1da2-4903-90ad-70e19c09d580",
   "metadata": {},
   "source": [
    "### Render loop"
   ]
  },
  {
   "cell_type": "code",
   "execution_count": null,
   "id": "d4c4bc4b-4bc6-4dff-b31a-d0c7b2b6550e",
   "metadata": {},
   "outputs": [],
   "source": [
    "def recursive_render(node, M): # node and matrix M\n",
    "\n",
    "    nodeTransform = glm.transpose(glm.mat4(node.transformation));\n",
    "    M1 = M * nodeTransform\n",
    "    # if it has a mesh then read the mesh id \n",
    "    if node.num_meshes > 0:\n",
    "        for index in node.mesh_indices:\n",
    "            program[\"map\"] = index # program[\"map\"] = 0\n",
    "            program[\"model\"].write(M1)\n",
    "            renderable[index].render()\n",
    "         \n",
    "    for child in node.children:\n",
    "        recursive_render(child,M1)\n",
    "    \n",
    "def render ():\n",
    "    recursive_render(scene.root_node, glm.mat4(1))\n",
    "\n",
    "running = True\n",
    "clock = pygame.time.Clock()\n",
    "alpha = 0\n",
    "pause = True\n",
    "gl.enable(gl.DEPTH_TEST)\n",
    "while running:   \n",
    "    # poll for events\n",
    "    # pygame.QUIT event means the user clicked X to close your window\n",
    "    # event.key == 27 means Escape key is pressed.\n",
    "    for event in pygame.event.get():\n",
    "        if event.type == pygame.QUIT:\n",
    "            running = False\n",
    "        elif (event.type ==  pygame.KEYDOWN):\n",
    "            if  event.key == 27:\n",
    "                running = False\n",
    "            elif event.key == pygame.K_p:\n",
    "                pause = not pause\n",
    "        elif (event.type == pygame.WINDOWRESIZED):\n",
    "            width = event.x\n",
    "            height = event.y\n",
    "            perspectiveMatrix = glm.perspective(fov_radian, width/height, near, far)\n",
    "\n",
    "    # create the aspect ratio correction matrix\n",
    "    \n",
    "    eye_point = glm.vec3(bound.center) + glm.rotate(displacement_vector, glm.radians(alpha), glm.vec3(0,1,0))\n",
    "    viewMatrix = glm.lookAt(eye_point, target_point, up_vector)\n",
    "\n",
    "    \n",
    "    ### Add render code below\n",
    "    # Clear the display window with the specified R, G, B values using function ctx.clear(R, G, B)\n",
    "    gl.clear(0.5,0.5,0.0)\n",
    "    \n",
    "    # Make one or more Render Calls to instruct the GPU to render by executing the shader program with the provided data.\n",
    "    program[\"view\"].write(viewMatrix)\n",
    "    program[\"perspective\"].write(perspectiveMatrix)\n",
    "    \n",
    "    #  # do not do a for loop \n",
    "    # for index, renderable in enumerate(renderables): \n",
    "    #     program[\"map\"] = map # program[\"map\"] = 0\n",
    "    #     program[\"model\"].write(glm.mat4(1))\n",
    "    #     renderable.render() # cant use a single renderable ? \n",
    "\n",
    "    pygame.display.flip()\n",
    "    if not pause:\n",
    "        clock.tick(60)  # limits FPS to 10\n",
    "        alpha = alpha + 1\n",
    "        if alpha > 360:\n",
    "            alpha = 0\n",
    "    \n",
    "pygame.display.quit()"
   ]
  },
  {
   "cell_type": "markdown",
   "id": "e3751239-6dc5-485a-b1da-e3c1c6a9b5de",
   "metadata": {},
   "source": [
    "### Assimp data structure\n",
    "**scene:**\n",
    "- meshes: array of mesh objects\n",
    "- materials: array of material objects\n",
    "- rootnode: node\n",
    "\n",
    "**mesh:**\n",
    "- name\n",
    "- vertices: array of vertex positions in 3D\n",
    "- texturecoords: a list of texture coordinate arrays! (we will now use the first array)\n",
    "- normals: array of normal vectors in 3D (to be used later)\n",
    "- face indices\n",
    "- index to material array\n",
    "\n",
    "**material\"\"\n",
    "- Reflection properties\n",
    "- Textures\n",
    "\n",
    "**node:**\n",
    "- name\n",
    "- transformation: 4x4 transformation that must be applied at this node\n",
    "- mesh indices: an array of 0 or more indices to the mesh objects defined in the scene meshes\n",
    "- children: array of 0 or more child nodes"
   ]
  },
  {
   "cell_type": "raw",
   "id": "789c3385-5e83-4d3a-a66c-743c435aa54f",
   "metadata": {},
   "source": [
    "renderables = []\n",
    "for index, geomData in enumerate(geomDataList):\n",
    "    geomBuffer = gl.buffer(geomData)\n",
    "    indexBuffer = gl.buffer(faceIndexDataList[index])\n",
    "    renderable = gl.vertex_array(program,[(geomBuffer, \"3f 2f\", \"position\", \"uv\")],index_buffer=indexBuffer,index_element_size=4)\n",
    "    renderables.append(renderable)"
   ]
  },
  {
   "cell_type": "raw",
   "id": "718570a5-587b-4a5a-a279-fef6f6ace26a",
   "metadata": {},
   "source": [
    "samplers=[]\n",
    "for i,img in enumerate(texNames):\n",
    "    texture_img = pygame.image.load(img) \n",
    "    texture_data = pygame.image.tobytes(texture_img,\"RGB\", True) \n",
    "    texture = gl.texture(texture_img.get_size(), data = texture_data, components=3)\n",
    "    texture.build_mipmaps()\n",
    "    sampler = gl.sampler(texture=texture, filter=(gl.LINEAR_MIPMAP_LINEAR, gl.LINEAR), repeat_x = True, repeat_y = True)\n",
    "    samplers.append(sampler)\n",
    "    sampler.use(i)"
   ]
  },
  {
   "cell_type": "markdown",
   "id": "c001c7bc-c5ce-4f1d-b9fb-54c1250b6b03",
   "metadata": {},
   "source": [
    "## Recursive Render"
   ]
  },
  {
   "cell_type": "raw",
   "id": "e7d658f8-8556-40d5-9117-02d40e8cd401",
   "metadata": {},
   "source": [
    "def recursive_render(node, M):\n",
    "    if node is None:\n",
    "        print(\"Empty node\")\n",
    "        return\n",
    "    #print(\"Number of meshes: \",len(node.meshes))\n",
    "    nodeTransform = glm.transpose(glm.mat4(node.transformation));\n",
    "    currentTransform = M * nodeTransform\n",
    "    if node.num_meshes > 0:\n",
    "        for index in node.mesh_indices:\n",
    "            program[\"map\"] = index\n",
    "            program[\"model\"].write(currentTransform)\n",
    "            renderables[index].render()\n",
    "\n",
    "    for node in node.children:\n",
    "        recursive_render(node, currentTransform)\n",
    "\n",
    "def render():\n",
    "    recursive_render(scene.root_node, glm.mat4(1))"
   ]
  }
 ],
 "metadata": {
  "kernelspec": {
   "display_name": "Python 3",
   "language": "python",
   "name": "python3"
  },
  "language_info": {
   "codemirror_mode": {
    "name": "ipython",
    "version": 3
   },
   "file_extension": ".py",
   "mimetype": "text/x-python",
   "name": "python",
   "nbconvert_exporter": "python",
   "pygments_lexer": "ipython3",
   "version": "3.12.6"
  }
 },
 "nbformat": 4,
 "nbformat_minor": 5
}
