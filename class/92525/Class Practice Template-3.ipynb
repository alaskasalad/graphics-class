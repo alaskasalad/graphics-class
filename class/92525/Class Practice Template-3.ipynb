{
 "cells": [
  {
   "cell_type": "markdown",
   "id": "9ae702dd-1048-4ec2-ae45-57cf28deb652",
   "metadata": {},
   "source": [
    "# Class Practice Session"
   ]
  },
  {
   "cell_type": "markdown",
   "id": "a81f9363-fc5e-46f9-9997-a9b3000d274e",
   "metadata": {},
   "source": [
    "## Goal:\n",
    "- Read vertex position coordinates and texture coordinates of shape from .obj file.\n",
    "- Use a perspective camera\n",
    "- Render textured shape object.\n",
    "- Rotate the camera around the vertical axis."
   ]
  },
  {
   "cell_type": "markdown",
   "id": "a4740fa5-1787-43f7-bb19-85c685937e97",
   "metadata": {},
   "source": [
    "## Change from Assignment 5\n",
    "- No more clockface with a rotating second hand with diamond shape at the ends.\n",
    "- The 3D object data with position and texture coordinates will be read from a .obj file.\n",
    "    - NOTE:\n",
    "    - You must download LoadObject.py to your current work folder.\n",
    "    - Import getObjectData from LoadObject package\n",
    "        - ``` from LoadObject import getObjectData ```\n",
    "    - getObjectData usage: ```getObjectData(<obj file>, normal=True/False, texture=True/False)```\n",
    "- ctx.vertex_array changes for the shader program to accept multiple attributes (specifically 3D position coordinates and 2D texture coordinates) will be as follows: ```ctx.vertex_array(program,[(<buffer>, \"3f 2f\", \"position\", \"uv\")])```\n",
    "- Instead of clock face texture, a brick texture will be read and applied to the teapot.\n",
    "- A perspective orbiting Camera will be used.\n",
    "- If it is a real 3D object, then enable Depth Test to remove parts hidden from the view.\n",
    "    - How to enable Depth Test: ``` gl.enable(gl.DEPTH_BUFFER) ```"
   ]
  },
  {
   "cell_type": "code",
   "execution_count": null,
   "id": "52224489-b8d4-493a-8a3e-101f902dab6b",
   "metadata": {},
   "outputs": [],
   "source": []
  },
  {
   "cell_type": "markdown",
   "id": "391e7081-48c0-404c-9fa4-efac4c8264f6",
   "metadata": {},
   "source": [
    "## Imports"
   ]
  },
  {
   "cell_type": "code",
   "execution_count": 1,
   "id": "a82fe536-3dbb-46c0-a225-a51b93bd9695",
   "metadata": {},
   "outputs": [
    {
     "name": "stdout",
     "output_type": "stream",
     "text": [
      "pygame 2.6.1 (SDL 2.28.4, Python 3.12.6)\n",
      "Hello from the pygame community. https://www.pygame.org/contribute.html\n"
     ]
    }
   ],
   "source": [
    "import pygame\n",
    "import moderngl\n",
    "import numpy\n",
    "import glm\n",
    "from LoadObject import getObjectData # This is the new addition."
   ]
  },
  {
   "cell_type": "code",
   "execution_count": 2,
   "id": "455abcbe",
   "metadata": {},
   "outputs": [
    {
     "name": "stdout",
     "output_type": "stream",
     "text": [
      "Vertex position Count:  4 (-1.0, -1.0, 0.0)\n",
      "Vertex texture coordinate Count:  4 (0.0, 0.0, 0.0)\n",
      "Face count:  2.0\n",
      "Vertex position Count:  4 (-1.0, -1.0, 0.0)\n",
      "Vertex texture coordinate Count:  4 (0.0, 0.0, 0.0)\n",
      "Face count:  2.0\n",
      "texture exists\n"
     ]
    }
   ],
   "source": [
    "getObjectData(\"quadFace.obj\")\n",
    "getObjectData(\"quadFace.obj\", texture=True)\n",
    "\n",
    "geomData = [\n",
    "    -1., -1., 0.,   0., 0.,\n",
    "    1., -1., 0.,    1., 0.,\n",
    "    1., 1., 0.,     1., 1.,\n",
    "    -1., -1., 0.,   0., 0.,\n",
    "    1., 1., 0.,     1., 1.,\n",
    "    -1., 1., 0.,    0., 1.\n",
    "\n",
    "]"
   ]
  },
  {
   "cell_type": "markdown",
   "id": "14302eb9-4bce-4547-9aa5-3a84d103a8d6",
   "metadata": {},
   "source": [
    "## Intialize"
   ]
  },
  {
   "cell_type": "code",
   "execution_count": 3,
   "id": "5892790a-0935-469e-b334-e7293da0178d",
   "metadata": {},
   "outputs": [
    {
     "data": {
      "text/plain": [
       "'4.6.0 NVIDIA 560.94'"
      ]
     },
     "execution_count": 3,
     "metadata": {},
     "output_type": "execute_result"
    }
   ],
   "source": [
    "pygame.init() # Initlizes its different modules. Display module is one of them.\n",
    "\n",
    "width = 840\n",
    "height = 480\n",
    "pygame.display.gl_set_attribute(pygame.GL_CONTEXT_PROFILE_MASK, pygame.GL_CONTEXT_PROFILE_CORE) \n",
    "pygame.display.set_mode((width, height), flags= pygame.OPENGL | pygame.DOUBLEBUF | pygame.RESIZABLE)\n",
    "pygame.display.set_caption(title = \"Class Practice: Instructor\")\n",
    "gl = moderngl.get_context() # Get Previously created context.\n",
    "gl.info[\"GL_VERSION\"]"
   ]
  },
  {
   "cell_type": "markdown",
   "id": "d1a1a5b3-9289-44d9-bf2a-81cb0efc00b3",
   "metadata": {},
   "source": [
    "### Get the geometry data load it to a GPU buffer"
   ]
  },
  {
   "cell_type": "code",
   "execution_count": 4,
   "id": "73636cb0-7c87-4cb3-8e3f-065c4f41b348",
   "metadata": {},
   "outputs": [],
   "source": [
    "diamond_position_data = [\n",
    "    0.0, 0.8,\n",
    "    -0.8, 0,\n",
    "    0.8, 0,\n",
    "    0.8, 0,\n",
    "    -0.8, 0,\n",
    "    0, -0.8\n",
    "]\n",
    "diamond_geometry = numpy.array(diamond_position_data).astype(\"float32\")\n",
    "#Push the Geometry Data to the GPU buffer.\n",
    "diamond_geometry_buffer = gl.buffer(diamond_geometry) # Create a Vertex buffer object from the data"
   ]
  },
  {
   "cell_type": "markdown",
   "id": "c83863e7-ffe6-4990-95d5-e6387fe1a201",
   "metadata": {},
   "source": [
    "## Create shader program(s) and Renderables"
   ]
  },
  {
   "cell_type": "markdown",
   "id": "1c90d113-6362-424c-9588-5072b3acb168",
   "metadata": {},
   "source": [
    "#### Vertex Shaders\n",
    "The Vertex shader must set the value of a predefined vec4 variable gl_Position."
   ]
  },
  {
   "cell_type": "code",
   "execution_count": 5,
   "id": "dad02f19-dec2-45f2-aa04-c2308a95de54",
   "metadata": {},
   "outputs": [],
   "source": [
    "#\n",
    "# Vertex shader(s)\n",
    "#\n",
    "\n",
    "diamond_vertex_shader_code = '''\n",
    "#version 330 core\n",
    "\n",
    "// add attributes variables here\n",
    "layout (location=0) in vec2 position;\n",
    "\n",
    "uniform mat2 M;\n",
    "uniform float scale;\n",
    "uniform float radius;\n",
    "\n",
    "void main() {\n",
    "    vec2 displacement = radius * M * vec2(0,1);\n",
    "    vec2 P = M * (scale * position) + displacement;\n",
    "    gl_Position = vec4(P,0.0, 1.0);\n",
    "}\n",
    "'''\n",
    "line_vertex_shader_code = '''\n",
    "#version 330 core\n",
    "\n",
    "// add attributes variables here\n",
    "uniform mat2 M;\n",
    "uniform float radius;\n",
    "\n",
    "void main() {\n",
    "    vec2 P = vec2(0);\n",
    "    if (gl_VertexID > 0){\n",
    "        P = radius * M * vec2(0,1);\n",
    "    }\n",
    "    gl_Position = vec4(P,0.0, 1.0);\n",
    "}\n",
    "'''\n",
    "face_vertex_shader_code = '''\n",
    "#version 330 core\n",
    "\n",
    "layout (location=0) in vec3 position; \n",
    "layout (location=1) in vec2 uv; \n",
    "\n",
    "out vec2 f_uv; // Texture coordinate\n",
    "uniform mat2 M;\n",
    "void main() {\n",
    "    vec2 P, uv;\n",
    "    switch (gl_VertexID){\n",
    "        case 0: \n",
    "        case 3:\n",
    "            uv = vec2(0,0);\n",
    "            P = vec2(-1,-1);\n",
    "            break;\n",
    "        case 1: \n",
    "            uv = vec2(1,0);\n",
    "            P = vec2(1,-1);\n",
    "            break;\n",
    "        case 2:\n",
    "        case 4:\n",
    "            uv = vec2(1,1);\n",
    "            P = vec2(1,1);\n",
    "            break;\n",
    "        case 5:\n",
    "            uv = vec2(0,1);\n",
    "            P = vec2(-1,1);\n",
    "            break;\n",
    "    }\n",
    "    f_uv = uv;\n",
    "    gl_Position = vec4(M*P,0.0, 1.0);\n",
    "}\n",
    "'''\n",
    "\n",
    "#\n",
    "# Fragment shader(s)\n",
    "#\n",
    "\n",
    "diamond_fragment_shader_code = '''\n",
    "#version 330 core\n",
    "// Add output variable here\n",
    "out vec4 color;\n",
    "uniform vec3 inColor;\n",
    "void main() {\n",
    "    //set output color value here\n",
    "    color = vec4(inColor,1);\n",
    "}\n",
    "'''\n",
    "face_fragment_shader_code = '''\n",
    "#version 330 core\n",
    "in vec2 f_uv;\n",
    "uniform sampler2D map;\n",
    "// Add output variable here\n",
    "out vec4 color;\n",
    "\n",
    "void main() {\n",
    "    //set output color value here\n",
    "    color = texture(map, f_uv);\n",
    "}\n",
    "'''\n",
    "#\n",
    "# Programs\n",
    "#\n",
    "\n",
    "diamond_program = gl.program(\n",
    "    vertex_shader= diamond_vertex_shader_code,\n",
    "    fragment_shader= diamond_fragment_shader_code\n",
    ")\n",
    "\n",
    "line_program = gl.program(\n",
    "    vertex_shader= line_vertex_shader_code,\n",
    "    fragment_shader= diamond_fragment_shader_code\n",
    ")\n",
    "\n",
    "face_program = gl.program(\n",
    "    vertex_shader= face_vertex_shader_code,\n",
    "    fragment_shader= face_fragment_shader_code\n",
    ")\n",
    "\n",
    "#\n",
    "# Renderables\n",
    "#\n",
    "diamond_renderable = gl.vertex_array(diamond_program,\n",
    "    [( diamond_geometry_buffer, \"2f\", \"position\" ) ]\n",
    ")\n",
    "\n",
    "line_renderable = gl.vertex_array(line_program,\n",
    "    []\n",
    ")\n",
    "\n",
    "face_renderable = gl.vertex_array(face_program,\n",
    "    []\n",
    ")"
   ]
  },
  {
   "cell_type": "markdown",
   "id": "6be52fba-ac68-45d1-b357-299c27c2945c",
   "metadata": {},
   "source": [
    "##  Create Texture object and specify filter and wrap options.\n",
    "__Load image and get the data in a sequence of bytes__  \n",
    "```pygame.image.load()``` will return a Suface object that has image data.  \n",
    "```texture_img = pygame.image.load(<image_file>)```  \n",
    "```texture_data = pygame.image.tobytes(texture_img,channels,True)``` \\#tobytes(Surface, format=\\<\"RGB\" or \"RGBA\"\\>, \\<to Flip or no to flip True/False\\>) -> bytes    \n",
    "\\#w, h = texture_img.get_size()   \n",
    "\n",
    "__Create Texture object and send the data__  \n",
    "```ctx.texture(size = <size tuple>, data=<texture data in bytes>,components=<Number of color channels>)``` \\# returns texture object filled with data\n",
    "\n",
    "__Create a sampler object that associates filter and wrap options with the texture__  \n",
    "```ctx.sampler(texture=<texture object>, filter=(<Minification filter>, <magnification filter>), repeat_x=<True/False>, repeat_y=<True/False>)``` \\# returns a sampler object\n",
    "\n",
    "LINEAR_MIPMAP_LINEAR in minification filtering requires that you generate MipMap of the texture a priori. \n",
    "```<texture object>.build_mipmaps()```\n",
    "The sampler object must be attached to a texture unit before it can be used in the shader program.  \n",
    "```<sampler object>.use(n)```"
   ]
  },
  {
   "cell_type": "code",
   "execution_count": 6,
   "id": "724978f7-0d98-47b0-ba2f-5d213054b65d",
   "metadata": {},
   "outputs": [
    {
     "ename": "FileNotFoundError",
     "evalue": "No file 'clockFace.png' found in working directory 'c:\\Users\\caitl\\OneDrive\\Desktop\\graphics-class\\class\\92525'.",
     "output_type": "error",
     "traceback": [
      "\u001b[31m---------------------------------------------------------------------------\u001b[39m",
      "\u001b[31mFileNotFoundError\u001b[39m                         Traceback (most recent call last)",
      "\u001b[36mCell\u001b[39m\u001b[36m \u001b[39m\u001b[32mIn[6]\u001b[39m\u001b[32m, line 1\u001b[39m\n\u001b[32m----> \u001b[39m\u001b[32m1\u001b[39m texture_img = \u001b[43mpygame\u001b[49m\u001b[43m.\u001b[49m\u001b[43mimage\u001b[49m\u001b[43m.\u001b[49m\u001b[43mload\u001b[49m\u001b[43m(\u001b[49m\u001b[33;43m\"\u001b[39;49m\u001b[33;43mclockFace.png\u001b[39;49m\u001b[33;43m\"\u001b[39;49m\u001b[43m)\u001b[49m \n\u001b[32m      2\u001b[39m texture_data = pygame.image.tobytes(texture_img,\u001b[33m\"\u001b[39m\u001b[33mRGB\u001b[39m\u001b[33m\"\u001b[39m, \u001b[38;5;28;01mTrue\u001b[39;00m) \n\u001b[32m      3\u001b[39m faceTexture = gl.texture(texture_img.get_size(), data = texture_data, components=\u001b[32m3\u001b[39m)\n",
      "\u001b[31mFileNotFoundError\u001b[39m: No file 'clockFace.png' found in working directory 'c:\\Users\\caitl\\OneDrive\\Desktop\\graphics-class\\class\\92525'."
     ]
    }
   ],
   "source": [
    "texture_img = pygame.image.load(\"clockFace.png\") \n",
    "texture_data = pygame.image.tobytes(texture_img,\"RGB\", True) \n",
    "faceTexture = gl.texture(texture_img.get_size(), data = texture_data, components=3)\n",
    "faceSampler = gl.sampler(texture=faceTexture, filter=(gl.LINEAR, gl.LINEAR)) "
   ]
  },
  {
   "cell_type": "markdown",
   "id": "192387d5-cfe3-4b90-a37c-e81114c4c4b7",
   "metadata": {},
   "source": [
    "## Define Camera Parameters here\n",
    "Camera parameters for view transformation matrix computation are: ``` eye_point, lookat_point or target_point, up_vector ```\n",
    "- Use glm.lookat to compute the view transformation matrix\n",
    "    - glm.lookAt usage: ``` glm.lookAt(eye_point, target_point, up_vector)```\n",
    "\n",
    "Camera parameters for perspective transformation matrix computation are: ``` fov (in radians), aspect_ratio, near and far``` plane distances.\n",
    "- Use glm.perspective to compute the perspective transformation Matrix.\n",
    "    - glm.perspective usage: ``` glm.perspective(fov_radian, aspect, near, far) ```\n",
    " \n",
    "You may set uniform matrix values from the glm computed 4x4 matrix as:\n",
    "``` program[<uniform matrix name>].write(<matrix>) ```"
   ]
  },
  {
   "cell_type": "markdown",
   "id": "c001c7bc-c5ce-4f1d-b9fb-54c1250b6b03",
   "metadata": {},
   "source": [
    "## Render loop"
   ]
  },
  {
   "cell_type": "code",
   "execution_count": null,
   "id": "63ba44fa-9c1a-4eac-b2ed-20018c3dea34",
   "metadata": {},
   "outputs": [],
   "source": [
    "running = True\n",
    "clock = pygame.time.Clock()\n",
    "alpha = 0\n",
    "\n",
    "while running:   \n",
    "    # poll for events\n",
    "    # pygame.QUIT event means the user clicked X to close your window\n",
    "    # event.key == 27 means Escape key is pressed.\n",
    "    for event in pygame.event.get():\n",
    "        if event.type == pygame.QUIT or (event.type == pygame.KEYDOWN and event.key == 27):\n",
    "            running = False\n",
    "        elif (event.type == pygame.WINDOWRESIZED):\n",
    "            width = event.x\n",
    "            height = event.y\n",
    "    aspect = width/height\n",
    "    # create the aspect ratio correction matrix\n",
    "    \n",
    "    M_aspect = glm.mat2(1/aspect, 0, 0, 1) if aspect > 1 else glm.mat2(1, 0, 0, aspect)\n",
    "\n",
    "    #Create the rotation matrix\n",
    "    #  Let it be M_rotate\n",
    "    # Remember positive alpha values are for anticlockwise rotation. For clockwise rotation, use -alpha\n",
    "    # M = M_aspect * M_rotate\n",
    "    # ... Part of assignment 4 and 5\n",
    "    \n",
    "    M = M_aspect\n",
    "    \n",
    "    ### Add render code below\n",
    "    # Clear the display window with the specified R, G, B values using function ctx.clear(R, G, B)\n",
    "    gl.clear(0.5,0.5,0.0)\n",
    "    \n",
    "    # Make one or more Render Calls to instruct the GPU to render by executing the shader program with the provided data.\n",
    "    faceSampler.use(0)\n",
    "    face_program[\"map\"] = 0\n",
    "    face_program[\"M\"].write(M)\n",
    "    face_renderable.render(moderngl.TRIANGLES, vertices=6)\n",
    "    \n",
    "    diamond_program[\"M\"].write(M)\n",
    "    \n",
    "    diamond_program[\"scale\"] = 0.1\n",
    "    diamond_program[\"inColor\"] = 1, 1, 0\n",
    "    \n",
    "    diamond_program[\"radius\"] = 0.8\n",
    "    diamond_renderable.render()\n",
    "    \n",
    "    diamond_program[\"radius\"] = 0.0\n",
    "    diamond_renderable.render()\n",
    "    \n",
    "    line_program[\"M\"].write(M)\n",
    "    line_program[\"radius\"] = 0.8\n",
    "    line_program[\"inColor\"] = 0, 0, 0\n",
    "    line_renderable.render(moderngl.LINES, vertices=2)  \n",
    "    \n",
    "    pygame.display.flip()\n",
    "    clock.tick(60)  # limits FPS to 10\n",
    "    alpha = alpha + 1\n",
    "    if alpha > 360:\n",
    "        alpha = 0\n",
    "\n",
    "pygame.display.quit()"
   ]
  }
 ],
 "metadata": {
  "kernelspec": {
   "display_name": "Python 3",
   "language": "python",
   "name": "python3"
  },
  "language_info": {
   "codemirror_mode": {
    "name": "ipython",
    "version": 3
   },
   "file_extension": ".py",
   "mimetype": "text/x-python",
   "name": "python",
   "nbconvert_exporter": "python",
   "pygments_lexer": "ipython3",
   "version": "3.12.6"
  }
 },
 "nbformat": 4,
 "nbformat_minor": 5
}
