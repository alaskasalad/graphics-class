{
 "cells": [
  {
   "cell_type": "markdown",
   "id": "ffa7a206",
   "metadata": {},
   "source": [
    "## class practice for diffusing lighting"
   ]
  },
  {
   "cell_type": "markdown",
   "id": "391e7081-48c0-404c-9fa4-efac4c8264f6",
   "metadata": {},
   "source": [
    "#### Imports"
   ]
  },
  {
   "cell_type": "code",
   "execution_count": null,
   "id": "a82fe536-3dbb-46c0-a225-a51b93bd9695",
   "metadata": {},
   "outputs": [],
   "source": [
    "import pygame\n",
    "import moderngl\n",
    "import glm\n",
    "from loadModelUsingAssimp_V2 import create3DAssimpObject"
   ]
  },
  {
   "cell_type": "markdown",
   "id": "99e25825-7121-4ea9-ba1c-46928c8dd2d7",
   "metadata": {},
   "source": [
    "### Use Assimp parser and and read a 3D model."
   ]
  },
  {
   "cell_type": "code",
   "execution_count": null,
   "id": "bdcc2f33-04d6-4047-9779-300356fdb9c3",
   "metadata": {},
   "outputs": [],
   "source": [
    "assimpObject = create3DAssimpObject(\"chair_table_class/scene.gltf\", verbose=False, textureFlag = True, normalFlag= True) # changed mario to chair thing \n",
    "              # Flags supported: textureFlag, normalFlag, tangentFlag"
   ]
  },
  {
   "cell_type": "markdown",
   "id": "1c90d113-6362-424c-9588-5072b3acb168",
   "metadata": {},
   "source": [
    "### Shader Code"
   ]
  },
  {
   "cell_type": "code",
   "execution_count": null,
   "id": "2bac690a-4a35-4303-9164-cce1efb0e9ce",
   "metadata": {},
   "outputs": [],
   "source": [
    "#\n",
    "# Vertex shader(s)\n",
    "#\n",
    "vertex_shader_code = '''\n",
    "#version 330 core\n",
    "\n",
    "layout (location=0) in vec3 position;\n",
    "layout (location=1) in vec2 uv;\n",
    "layout (location=2) in vec3 normal;\n",
    "\n",
    "uniform mat4 model, view, perspective;\n",
    "out vec2 f_uv; // Texture coordinate\n",
    "out vec3 f_normal; // normal vector output to the pipeline \n",
    "\n",
    "void main() {\n",
    "    f_uv = uv;\n",
    "    vec4 P = perspective*view*model*vec4(position, 1);\n",
    "    gl_Position = P;\n",
    "    mat3 normalMatrix = mat3(transpose(inverse(model))); // inverse transpose of model transformation\n",
    "    f_normal = normalize(normalMatrix*normal); \n",
    "}\n",
    "'''\n",
    "\n",
    "#\n",
    "# Fragment shader(s)\n",
    "#\n",
    "fragment_shader_code = '''\n",
    "#version 330 core\n",
    "\n",
    "in vec2 f_uv;\n",
    "in vec3 f_normal; \n",
    "uniform sampler2D map;\n",
    "uniform vec3 light; // light direciton \n",
    "\n",
    "// Add output variable here\n",
    "out vec4 out_color;\n",
    "\n",
    "void main() {\n",
    "    vec3 materialColor = texture(map, f_uv).rgb;\n",
    "    vec3 N = normalize(f_normal); \n",
    "    vec3 L = normalize(light); \n",
    "    vec3 color = materialColor*clamp(dot(N, L), 0, 1);\n",
    "    out_color = vec4(color, 1);\n",
    "}\n",
    "'''"
   ]
  },
  {
   "cell_type": "markdown",
   "id": "36fcac26-73a6-4e74-b5b7-e782a7aefdb9",
   "metadata": {},
   "source": [
    "### Define Camera Parameters"
   ]
  },
  {
   "cell_type": "code",
   "execution_count": null,
   "id": "5114b50a-86d6-41eb-b22a-0ba1320caf28",
   "metadata": {},
   "outputs": [],
   "source": [
    "bound = assimpObject.bound\n",
    "width = 840\n",
    "height = 480\n",
    "\n",
    "displacement_vector = 2*bound.radius*glm.vec3(0,0,1) #glm.rotate(glm.vec3(0,1,0), glm.radians(60), glm.vec3(1,0,0)) #\n",
    "    \n",
    "target_point = glm.vec3(bound.center)\n",
    "up_vector = glm.vec3(0,1,0)\n",
    "\n",
    "### View volume parameters\n",
    "fov_radian = glm.radians(45) # In radian\n",
    "aspect = width/height\n",
    "near = bound.radius\n",
    "far = 3*bound.radius\n",
    "perspectiveMatrix = glm.perspective(fov_radian, aspect, near, far)"
   ]
  },
  {
   "cell_type": "markdown",
   "id": "14302eb9-4bce-4547-9aa5-3a84d103a8d6",
   "metadata": {},
   "source": [
    "#### Intialize"
   ]
  },
  {
   "cell_type": "code",
   "execution_count": null,
   "id": "04f0149d-8ea2-46b9-937f-36322098cc2f",
   "metadata": {},
   "outputs": [],
   "source": [
    "pygame.init() # Initlizes its different modules. Display module is one of them.\n",
    "\n",
    "pygame.display.gl_set_attribute(pygame.GL_CONTEXT_PROFILE_MASK, pygame.GL_CONTEXT_PROFILE_CORE) \n",
    "pygame.display.set_mode((width, height), flags= pygame.OPENGL | pygame.DOUBLEBUF | pygame.RESIZABLE)\n",
    "pygame.display.set_caption(title = \"Assignment 08: Caitlin Box\")\n",
    "gl = moderngl.get_context() # Get Previously created context.\n",
    "gl.info[\"GL_VERSION\"]"
   ]
  },
  {
   "cell_type": "markdown",
   "id": "c83863e7-ffe6-4990-95d5-e6387fe1a201",
   "metadata": {},
   "source": [
    "#### Create shader program(s) and Renderables"
   ]
  },
  {
   "cell_type": "code",
   "execution_count": null,
   "id": "f4105d76-7fcb-4451-a704-57d8fd0c9162",
   "metadata": {},
   "outputs": [],
   "source": [
    "program = gl.program(\n",
    "    vertex_shader= vertex_shader_code,\n",
    "    fragment_shader= fragment_shader_code\n",
    ")\n",
    "format = \"3f 3f 2f\"\n",
    "variables = [\"position\", \"normal\", \"uv\"]\n",
    "renderables = assimpObject.getRenderables(gl, program, format, variables)"
   ]
  },
  {
   "cell_type": "markdown",
   "id": "457b1ecd-e9df-4c9d-8f63-40ca0cfbc245",
   "metadata": {},
   "source": [
    "### Create Texture object and specify filter and wrap options."
   ]
  },
  {
   "cell_type": "code",
   "execution_count": null,
   "id": "8e63e375-fcb0-4d50-8119-999afcb890a1",
   "metadata": {},
   "outputs": [],
   "source": [
    "samplers = assimpObject.getSamplers(gl)"
   ]
  },
  {
   "cell_type": "markdown",
   "id": "fce1d2e1-1da2-4903-90ad-70e19c09d580",
   "metadata": {},
   "source": [
    "### Render loop"
   ]
  },
  {
   "cell_type": "code",
   "execution_count": null,
   "id": "d4c4bc4b-4bc6-4dff-b31a-d0c7b2b6550e",
   "metadata": {},
   "outputs": [],
   "source": [
    "running = True\n",
    "clock = pygame.time.Clock()\n",
    "alpha = 0\n",
    "pause = True\n",
    "gl.enable(gl.DEPTH_TEST)\n",
    "while running:   \n",
    "    # poll for events\n",
    "    # pygame.QUIT event means the user clicked X to close your window\n",
    "    # event.key == 27 means Escape key is pressed.\n",
    "    for event in pygame.event.get():\n",
    "        if event.type == pygame.QUIT:\n",
    "            running = False\n",
    "        elif (event.type ==  pygame.KEYDOWN):\n",
    "            if  event.key == 27:\n",
    "                running = False\n",
    "            elif event.key == pygame.K_p:\n",
    "                pause = not pause\n",
    "        elif (event.type == pygame.WINDOWRESIZED):\n",
    "            width = event.x\n",
    "            height = event.y\n",
    "            perspectiveMatrix = glm.perspective(fov_radian, width/height, near, far)\n",
    "\n",
    "    # create the aspect ratio correction matrix\n",
    "    new_displacement_vector = glm.rotate(displacement_vector, glm.radians(alpha), glm.vec3(0,1,0))\n",
    "    eye_point = target_point + new_displacement_vector\n",
    "    viewMatrix = glm.lookAt(eye_point, target_point, up_vector)\n",
    "\n",
    "    \n",
    "    ### Add render code below\n",
    "    # Clear the display window with the specified R, G, B values using function ctx.clear(R, G, B)\n",
    "    gl.clear(0.5,0.5,0.0)\n",
    "    \n",
    "    # Make one or more Render Calls to instruct the GPU to render by executing the shader program with the provided data.\n",
    "    program[\"view\"].write(viewMatrix)\n",
    "    program[\"perspective\"].write(perspectiveMatrix)\n",
    "    program[\"light\"].write(new_displacement_vector)\n",
    "    assimpObject.render(program, renderables, samplers, M = glm.mat4(1))\n",
    "    \n",
    "    pygame.display.flip()\n",
    "    clock.tick(60)  # limits FPS to 10\n",
    "    if not pause:\n",
    "        alpha = alpha + 1\n",
    "        if alpha > 360:\n",
    "            alpha = 0\n",
    "    \n",
    "pygame.display.quit()"
   ]
  },
  {
   "cell_type": "markdown",
   "id": "e3751239-6dc5-485a-b1da-e3c1c6a9b5de",
   "metadata": {},
   "source": [
    "### Assimp data structure\n",
    "**scene:**\n",
    "- meshes: an array of mesh objects\n",
    "- materials: an array of material objects\n",
    "- rootnode: node\n",
    "\n",
    "**mesh:**\n",
    "- name\n",
    "- num_vertices\n",
    "- num_faces\n",
    "- num_indices # if all faces are triangular primitives, then num_indices should be num_faces * 3\n",
    "- vertices: an array of vertex positions in 3D\n",
    "- texturecoords: a list of texture coordinate arrays! (we will now use the first array)\n",
    "- normals: an array of normal vectors in 3D (to be used later)\n",
    "- indices: an array of face indices\n",
    "- material_index: index to material array\n",
    "\n",
    "**material** (a Python dict)\n",
    "- Name\n",
    "- Reflection properties\n",
    "- Textures\n",
    "\n",
    "**node:**\n",
    "- name\n",
    "- transformation: 4x4 transformation that must be applied at this node\n",
    "- mesh indices: an array of 0 or more indices to the mesh objects defined in the scene meshes\n",
    "- children: array of 0 or more child nodes"
   ]
  },
  {
   "cell_type": "raw",
   "id": "789c3385-5e83-4d3a-a66c-743c435aa54f",
   "metadata": {},
   "source": [
    "renderables = []\n",
    "for index, geomData in enumerate(geomDataList):\n",
    "    geomBuffer = gl.buffer(geomData)\n",
    "    indexBuffer = gl.buffer(faceIndexDataList[index])\n",
    "    renderable = gl.vertex_array(program,[(geomBuffer, \"3f 2f\", \"position\", \"uv\")],index_buffer=indexBuffer,index_element_size=4)\n",
    "    renderables.append(renderable)"
   ]
  },
  {
   "cell_type": "raw",
   "id": "718570a5-587b-4a5a-a279-fef6f6ace26a",
   "metadata": {},
   "source": [
    "samplers=[]\n",
    "for i,img in enumerate(texNames):\n",
    "    texture_img = pygame.image.load(img) \n",
    "    texture_data = pygame.image.tobytes(texture_img,\"RGB\", True) \n",
    "    texture = gl.texture(texture_img.get_size(), data = texture_data, components=3)\n",
    "    texture.build_mipmaps()\n",
    "    sampler = gl.sampler(texture=texture, filter=(gl.LINEAR_MIPMAP_LINEAR, gl.LINEAR), repeat_x = True, repeat_y = True)\n",
    "    samplers.append(sampler)\n",
    "    sampler.use(i)"
   ]
  },
  {
   "cell_type": "raw",
   "id": "0a2bff4e-f9a9-41b5-8a5c-15b044e09f2a",
   "metadata": {},
   "source": [
    "## Recursive Render"
   ]
  },
  {
   "cell_type": "raw",
   "id": "e7d658f8-8556-40d5-9117-02d40e8cd401",
   "metadata": {
    "vscode": {
     "languageId": "raw"
    }
   },
   "source": [
    "scene = assimpobj.scene\n",
    "meshes = scene.meshes\n",
    "materials = scene.materials \n",
    "\n",
    "def recursive_render(node, M):\n",
    "    if node is None:\n",
    "        print(\"Empty node\")\n",
    "        return\n",
    "    #print(\"Number of meshes: \",len(node.meshes))\n",
    "    nodeTransform = glm.transpose(glm.mat4(node.transformation));\n",
    "    currentTransform = M * nodeTransform\n",
    "    if node.num_meshes > 0:\n",
    "        for index in node.mesh_indices:\n",
    "            program[\"map\"] = index\n",
    "            program[\"model\"].write(currentTransform)\n",
    "            renderables[index].render()\n",
    "\n",
    "    for node in node.children:\n",
    "        recursive_render(node, currentTransform)\n",
    "\n",
    "def render():\n",
    "    recursive_render(scene.root_node, glm.mat4(1))"
   ]
  }
 ],
 "metadata": {
  "kernelspec": {
   "display_name": "Python 3",
   "language": "python",
   "name": "python3"
  },
  "language_info": {
   "codemirror_mode": {
    "name": "ipython",
    "version": 3
   },
   "file_extension": ".py",
   "mimetype": "text/x-python",
   "name": "python",
   "nbconvert_exporter": "python",
   "pygments_lexer": "ipython3",
   "version": "3.12.6"
  }
 },
 "nbformat": 4,
 "nbformat_minor": 5
}
