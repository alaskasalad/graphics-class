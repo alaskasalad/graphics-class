{
 "cells": [
  {
   "cell_type": "markdown",
   "id": "9ae702dd-1048-4ec2-ae45-57cf28deb652",
   "metadata": {},
   "source": [
    "# Class Practice Session"
   ]
  },
  {
   "cell_type": "markdown",
   "id": "770fd4c8-790d-43de-ac45-1f7374eeabaa",
   "metadata": {},
   "source": [
    "## Goal:\n",
    "- Create a scene with instances of multiple objects layed our on a floor"
   ]
  },
  {
   "cell_type": "markdown",
   "id": "96b91c05-7034-4b38-89ca-d6267ca7d31f",
   "metadata": {},
   "source": [
    "## Details\n",
    "- Create a square floor object on the YZ plane whose center is at (0,0,0).\n",
    "  - Manually create the vertices of the floor object with position and texture coordinates.\n",
    "  - Create a bound object similar to the one returned by create3DAssimpObject, but with bounds relevant to the floor object. As mentioned earlier, this bound will be used to set our camera and light.\n",
    "  - Write a shader program to draw this floor with floor-wood.jpg as the texture.\n",
    "- Create a cell grid on the floor object using a uniform subdivision along each dimension, and compute a jittered center for each cell to place the instance object.\n",
    "- Load the model object that you want to instantiate.\n",
    "- Compute matrices to scale, random rotate, and translate model object(s) to the instance center. Let  us call them instanceMatices.\n",
    "- Create a [Shader Storage Buffer Object (SSBO)](https://wikis.khronos.org/opengl/Shader_Storage_Buffer_Object) to store the matrices in GPU and bind it to a binding unit 0. Unlike the vertex array buffers, SSBOs have special layout qualifiers for specifying binding locations.\n",
    "```\n",
    "instanceBuffer = gl.buffer(<matrix float array data>)\n",
    "instanceBuffer.bind_to_storage_buffer(<buffer binding location>)\n",
    "```\n",
    "If you are using glm to create the instance matrices, then you must make sure that the data in the matrix float array has the glm matrix in column order. One way to do it is:\n",
    "  - use the create a list of matrices where each item is list(matrix)\n",
    "  - convert to a numpy array and flatten it: numpy.array(<matrix list>).flatten()\n",
    "- Update the model object vertex shader program to define the buffer binding location,\n",
    "```\n",
    "    layout(binding = <buffer binding location>, std430) readonly buffer InstanceData {\n",
    "        mat4 instanceMatrix[];\n",
    "    };\n",
    "```  \n",
    "and access the instantMatrix for every instance using gl_InstanceID, a predefined instance ID. Composite this instance matrix with model matrix\n",
    "- make renderable render calls using the number of instances you have, ex: renderable.render(instances = \\<number of instance\\>)"
   ]
  },
  {
   "cell_type": "markdown",
   "id": "391e7081-48c0-404c-9fa4-efac4c8264f6",
   "metadata": {},
   "source": [
    "## Imports"
   ]
  },
  {
   "cell_type": "code",
   "execution_count": null,
   "id": "a82fe536-3dbb-46c0-a225-a51b93bd9695",
   "metadata": {},
   "outputs": [],
   "source": [
    "import pygame\n",
    "import moderngl\n",
    "import numpy\n",
    "import glm\n",
    "from loadModelUsingAssimp_V3 import create3DAssimpObject"
   ]
  },
  {
   "cell_type": "code",
   "execution_count": null,
   "id": "b4627bcf",
   "metadata": {},
   "outputs": [],
   "source": [
    "size = 5 \n",
    "floor_positions = size * numpy.array([\n",
    "    [-0.5, 0, -0.5],\n",
    "    [0.5, 0, -0.5],\n",
    "    [0.5, 0, 0.5],\n",
    "\n",
    "    [0.5, 0, 0.5],\n",
    "    [-0.5, 0, 0.5],\n",
    "    [-0.5, 0, -0.5]\n",
    "]).astype(\"float32\")\n",
    "\n",
    "floor_uv = numpy.array([\n",
    "    [0,0],\n",
    "    [1,0],\n",
    "    [1,1],\n",
    "\n",
    "    [0,0],\n",
    "    [0,1],\n",
    "    [0,0]\n",
    "])\n",
    "\n",
    "floor_geom = numpy.concat((floor_positions, floor_uv), axis=1).flatten()\n",
    "class bound:\n",
    "    boundingBox = [size* glm.vec3([-0.5, 0, -0.5]), [size* glm.vec3([0.5, 0, 0.5])]]\n",
    "    center = glm.vec3(0)\n",
    "    radius = size * 1.732\n",
    "\n",
    "rng = numpy.random.default_rng()\n",
    "\n",
    "nSubDivisions = 10 \n",
    "totalInstances = nSubDivisions * nSubDivisions\n",
    "delta = size/nSubDivisions\n",
    "centers = []\n",
    "#jCenters = []\n",
    "minP = bound.boundingBox[0]\n",
    "\n",
    "for i in range(nSubDivisions):\n",
    "    for j in range(nSubDivisions):\n",
    "        dxdy = rng.uniform(0, delta/2, 2)\n",
    "        #jCenter = minP + glm.vec3([i*delta+delta/2, 0, j*delta+delta/2]) <- right in the middle of the boxes \n",
    "        center = minP + glm.vec3([i*delta+delta/4+dxdy[0], 0, j*delta+delta/4+dxdy[1]])\n",
    "        centers.append(center)\n",
    "        #jCenters.append(jCenter)\n",
    "\n",
    "objSize = delta * 0.75"
   ]
  },
  {
   "cell_type": "code",
   "execution_count": null,
   "id": "45bcef9a",
   "metadata": {},
   "outputs": [],
   "source": [
    "floor_geom"
   ]
  },
  {
   "cell_type": "code",
   "execution_count": null,
   "id": "b7252746",
   "metadata": {},
   "outputs": [],
   "source": [
    "bound.radius\n",
    "vars(bound)"
   ]
  },
  {
   "cell_type": "code",
   "execution_count": null,
   "id": "693d5282",
   "metadata": {},
   "outputs": [],
   "source": [
    "from myPlot import plot \n",
    "plot(floor_positions, nSubDivisions, centers) #jCenters"
   ]
  },
  {
   "cell_type": "code",
   "execution_count": null,
   "id": "856facbb",
   "metadata": {},
   "outputs": [],
   "source": [
    "#\n",
    "# Programs\n",
    "#\n",
    "\n",
    "floor_vertex_shader= '''\n",
    "    #version 430 core\n",
    "    layout (location=0) in vec3 position;\n",
    "    layout (location=1) in vec2 uv;\n",
    "        \n",
    "    uniform mat4 view, perspective;\n",
    "    \n",
    "    out vec2 f_uv; // Texture coordinate\n",
    "    out vec3 f_normal; // Normal vector in World Coordinates\n",
    "    out vec3 f_position; // postion in world coordinates\n",
    "    void main() {\n",
    "        f_uv = uv;\n",
    "        vec4 P = M*vec4(position, 1);\n",
    "        f_position = P.xyz; \n",
    "        gl_Position = perspective*view*P;\n",
    "        f_normal = vec3(1,0,1);\n",
    "    }\n",
    "    '''\n",
    "floor_fragment_shader= '''\n",
    "    #version 430 core\n",
    "    in vec2 f_uv;\n",
    "    in vec3 f_normal;\n",
    "    // in vec3 f_position;\n",
    "    \n",
    "    uniform sampler2D map;\n",
    "    uniform vec3 light;\n",
    "    \n",
    "    uniform float shininess;\n",
    "    uniform vec3 eye_position;\n",
    "    uniform vec3 k_diffuse;\n",
    "    \n",
    "    // Add output variable here\n",
    "    out vec4 out_color;\n",
    "    \n",
    "    vec3 computeColor(){\n",
    "        vec3 L = normalize(light.xyz);\n",
    "        vec3 materialColor = texture(map, f_uv).rgb;\n",
    "        vec3 N = normalize(f_normal);\n",
    "        float NdotL = dot(N,L);\n",
    "        vec3 color = vec3(0.);\n",
    "        return color;\n",
    "    }\n",
    "    void main() {\n",
    "        out_color = vec4(computeColor(), 1);\n",
    "    }\n",
    "    '''    "
   ]
  },
  {
   "cell_type": "markdown",
   "id": "7ede511b-2dcd-4af5-acfd-6a47c6a8a14f",
   "metadata": {},
   "source": [
    "### ToDo: Create Square floor object on ZX plane and create bounds for the floor.\n",
    "<ins>Note</ins>:  \n",
    "The floor will be our main Scene/World object. Its extents define the scene extent. So its bounds will be used to create camera, light, and view transformations."
   ]
  },
  {
   "cell_type": "markdown",
   "id": "aab67679-032f-4a5b-99bc-c99cfb7b3ade",
   "metadata": {},
   "source": [
    "### ToDo: Generate points on the floor where you would like to place instances of the object \n",
    "For $jittering$ the points and for $random\\ rotation$ of individual objects we will use the random number generator of numpy.  Here is how you can generate them.\n",
    "- Create a random number generator: rng = numpy.random.default_rng()\n",
    "- Generate one or more random numbers uniformly between low and high: rng.uniform(low, high) for a single random number and rng.uniform(low, high, size) for an array of uniform random numbers, where size is the length of the array."
   ]
  },
  {
   "cell_type": "markdown",
   "id": "d07912cc-a2fd-4c78-a391-0bd9f8c9bf44",
   "metadata": {},
   "source": [
    "### ToDo: Write shader code for the floor"
   ]
  },
  {
   "cell_type": "markdown",
   "id": "7abaf43f-41de-4ca1-840b-db84a311253a",
   "metadata": {},
   "source": [
    "### Read model"
   ]
  },
  {
   "cell_type": "code",
   "execution_count": null,
   "id": "86036ae8-f5bb-42b4-b661-a1662fb14b31",
   "metadata": {},
   "outputs": [],
   "source": [
    "model_file = \"chair_table_class/scene.gltf\"\n",
    "modelObj = create3DAssimpObject(model_file)"
   ]
  },
  {
   "cell_type": "markdown",
   "id": "f5508485-57d3-49a9-95f4-8f1545e18147",
   "metadata": {},
   "source": [
    "### Write shader code for the Model Object"
   ]
  },
  {
   "cell_type": "code",
   "execution_count": null,
   "id": "5933bc45-0af0-4ae8-856a-ae33fbb3945a",
   "metadata": {},
   "outputs": [],
   "source": [
    "#\n",
    "# Programs\n",
    "#\n",
    "\n",
    "model_vertex_shader= '''\n",
    "    #version 430 core\n",
    "    layout (location=0) in vec3 position;\n",
    "    layout (location=1) in vec3 normal;\n",
    "    layout (location=2) in vec2 uv;\n",
    "        \n",
    "    uniform mat4 model, view, perspective;\n",
    "    \n",
    "    out vec2 f_uv; // Texture coordinate\n",
    "    out vec3 f_normal; // Normal vector in World Coordinates\n",
    "    out vec3 f_position; // postion in world coordinates\n",
    "    void main() {\n",
    "        mat4 M = model;\n",
    "        f_uv = uv;\n",
    "        vec4 P = M*vec4(position, 1);\n",
    "        f_position = P.xyz;\n",
    "        gl_Position = perspective*view*P;\n",
    "        mat3 normalMatrix = mat3(transpose(inverse(M)));// inverse transpose of model transformation\n",
    "        f_normal = normalize(normalMatrix*normal);\n",
    "    }\n",
    "    '''\n",
    "model_fragment_shader= '''\n",
    "    #version 430 core\n",
    "    in vec2 f_uv;\n",
    "    in vec3 f_normal;\n",
    "    in vec3 f_position;\n",
    "    \n",
    "    uniform sampler2D map;\n",
    "    uniform vec3 light;\n",
    "    \n",
    "    uniform float shininess;\n",
    "    uniform vec3 eye_position;\n",
    "    uniform vec3 k_diffuse;\n",
    "    \n",
    "    // Add output variable here\n",
    "    out vec4 out_color;\n",
    "    \n",
    "    vec3 computeColor(){\n",
    "        vec3 L = normalize(light.xyz);\n",
    "        vec3 materialColor = texture(map, f_uv).rgb;\n",
    "        vec3 N = normalize(f_normal);\n",
    "        float NdotL = dot(N,L);\n",
    "        vec3 color = vec3(0.);\n",
    "        vec3 ambientColor = 0.1*materialColor;\n",
    "        if (NdotL>0.){\n",
    "            vec3 diffuselyReflectedColor = materialColor * NdotL;\n",
    "            // Compute specular color\n",
    "            vec3 V = normalize(eye_position - f_position);\n",
    "            vec3 H = normalize(L+V);\n",
    "            vec3 specularlyReflectedColor = vec3(0);\n",
    "            if (shininess > 0)\n",
    "                specularlyReflectedColor = vec3(pow(dot(N,H), shininess));\n",
    "            color = k_diffuse * diffuselyReflectedColor + specularlyReflectedColor;\n",
    "        }\n",
    "        color += ambientColor; \n",
    "        return color;\n",
    "    }\n",
    "    void main() {\n",
    "        out_color = vec4(computeColor(), 1);\n",
    "    }\n",
    "    '''    "
   ]
  },
  {
   "cell_type": "markdown",
   "id": "36fcac26-73a6-4e74-b5b7-e782a7aefdb9",
   "metadata": {},
   "source": [
    "### Define Camera Parameters"
   ]
  },
  {
   "cell_type": "code",
   "execution_count": null,
   "id": "5114b50a-86d6-41eb-b22a-0ba1320caf28",
   "metadata": {},
   "outputs": [],
   "source": [
    "#bound = modelObj.bound\n",
    "width = 840\n",
    "height = 480\n",
    "\n",
    "displacement_vector = 2*bound.radius*glm.rotate(glm.vec3(0,1,0), glm.radians(60), glm.vec3(1,0,0)) #\n",
    "\n",
    "light_displacement_vector = 2*bound.radius*glm.rotate(glm.vec3(0,1,0), glm.radians(45), glm.vec3(1,0,0)) \n",
    "    \n",
    "target_point = glm.vec3(bound.center)\n",
    "up_vector = glm.vec3(0,1,0)\n",
    "\n",
    "### View volume parameters\n",
    "fov_radian = glm.radians(30) # In radian\n",
    "aspect = width/height\n",
    "near = bound.radius\n",
    "far = 3*bound.radius\n",
    "perspectiveMatrix = glm.perspective(fov_radian, aspect, near, far)"
   ]
  },
  {
   "cell_type": "markdown",
   "id": "14302eb9-4bce-4547-9aa5-3a84d103a8d6",
   "metadata": {},
   "source": [
    "## Intialize"
   ]
  },
  {
   "cell_type": "markdown",
   "id": "bf6810fb-a1d3-4eec-a188-f95a62d6d141",
   "metadata": {},
   "source": [
    "#### Enable anti-aliasing in the GPU pipeline\n",
    " - At the time of context creation, request a multisample buffer.: pygame.display.gl_set_attribute(GL_MULTISAMPLEBUFFERS, 1).\n",
    " - Specify the number of samples per pixel for multisampling: pygame.display.gl_set_attribute(GL_MULTISAMPLESAMPLES, 16). The higher the number, the better the antialiasing. Check the maximum number of samples supported in your driver. (ctx.max_samples)"
   ]
  },
  {
   "cell_type": "code",
   "execution_count": null,
   "id": "04f0149d-8ea2-46b9-937f-36322098cc2f",
   "metadata": {},
   "outputs": [],
   "source": [
    "pygame.init() # Initlizes its different modules. Display module is one of them.\n",
    "pygame.display.gl_set_attribute(pygame.GL_MULTISAMPLEBUFFERS, 1)\n",
    "pygame.display.gl_set_attribute(pygame.GL_MULTISAMPLESAMPLES, 16)\n",
    "pygame.display.gl_set_attribute(pygame.GL_CONTEXT_PROFILE_MASK, pygame.GL_CONTEXT_PROFILE_CORE) \n",
    "pygame.display.set_mode((width, height), flags= pygame.OPENGL | pygame.DOUBLEBUF | pygame.RESIZABLE)\n",
    "pygame.display.set_caption(title = \"Class Practice: Instructor\")\n",
    "gl = moderngl.get_context() # Get Previously created context.\n",
    "gl.info[\"GL_VERSION\"]"
   ]
  },
  {
   "cell_type": "markdown",
   "id": "c83863e7-ffe6-4990-95d5-e6387fe1a201",
   "metadata": {},
   "source": [
    "## Create shader program(s), Renderables and Texture Samplers"
   ]
  },
  {
   "cell_type": "code",
   "execution_count": null,
   "id": "f4105d76-7fcb-4451-a704-57d8fd0c9162",
   "metadata": {},
   "outputs": [],
   "source": [
    "model_program = gl.program(model_vertex_shader, model_fragment_shader)\n",
    "modelObj.createRenderableAndSampler(model_program)"
   ]
  },
  {
   "cell_type": "markdown",
   "id": "640270f4-b86a-464e-9045-35162229af8d",
   "metadata": {},
   "source": [
    "#### ToDo: Create floor_program, Renderable and texture sampler\n",
    "Recap: Renderables in modernGL are created using the following method:\n",
    "```\n",
    "ctx.vertex_array(floor_program,\n",
    "                [(gl.buffer(floor_geom), \"3f 2f\", \"position\", \"uv\")],\n",
    "            )\n",
    "```\n",
    "Texture samplers are created using:\n",
    "- loading texture image: pygame.image.load(\\<texture image file name\\>)\n",
    "- convert the loaded data to a byte array: pygame.image.tobytes(\\<loaded texture image\\>,\"RGB\", True) # True is to flip the Y axis of the image\n",
    "- creating texture: ctx.texture(\\loaded texture image\\>.get_size(), data = \\<byteArrayData\\>, components=3)\n",
    "- and then creating the texture sampler: ctx.sampler(texture=\\<createD texture\\>, filter=(ctx.LINEAR_MIPMAP_LINEAR, ctx.LINEAR), repeat_x = True, repeat_y = True)"
   ]
  },
  {
   "cell_type": "markdown",
   "id": "fce1d2e1-1da2-4903-90ad-70e19c09d580",
   "metadata": {},
   "source": [
    "### Render loop"
   ]
  },
  {
   "cell_type": "code",
   "execution_count": null,
   "id": "e4d038b4",
   "metadata": {},
   "outputs": [],
   "source": [
    "floor_renderable = gl.program(floor_vertex_shader, floor_fragment_shader)\n",
    "ctx.vertex_array(floor_program,\n",
    "                [(gl.buffer(floor_geom), \"3f 2f\", \"position\", \"uv\")],\n",
    "            )\n",
    "texture_img = pygame.image.load(\"floor-wood.jpg\")\n",
    "texture_data = pygame.image.tobytes(texture_image, \"RGB\", True)\n",
    "ctx.texture()\n",
    "ctx.sampler"
   ]
  },
  {
   "cell_type": "code",
   "execution_count": null,
   "id": "d4c4bc4b-4bc6-4dff-b31a-d0c7b2b6550e",
   "metadata": {},
   "outputs": [],
   "source": [
    "running = True\n",
    "clock = pygame.time.Clock()\n",
    "alpha = 0\n",
    "pause = True\n",
    "lightAngle = 0\n",
    "\n",
    "gl.enable(gl.DEPTH_TEST)\n",
    "\n",
    "while running:   \n",
    "    for event in pygame.event.get():\n",
    "        if event.type == pygame.QUIT:\n",
    "            running = False\n",
    "        elif (event.type ==  pygame.KEYDOWN):\n",
    "            if  event.key == 27:\n",
    "                running = False\n",
    "            elif event.key == pygame.K_p:\n",
    "                pause = not pause\n",
    "            elif event.key == pygame.K_LEFT:\n",
    "                lightAngle -= 5\n",
    "            elif event.key == pygame.K_RIGHT:\n",
    "                lightAngle += 5\n",
    "        elif (event.type == pygame.WINDOWRESIZED):\n",
    "            width = event.x\n",
    "            height = event.y\n",
    "            perspectiveMatrix = glm.perspective(fov_radian, width/height, near, far)\n",
    "\n",
    "    # create the aspect ratio correction matrix\n",
    "    new_displacement_vector = glm.rotate(displacement_vector, glm.radians(alpha), glm.vec3(0,1,0))\n",
    "\n",
    "    new_light_displacement_vector = glm.rotate(light_displacement_vector, glm.radians(lightAngle), glm.vec3(0,1,0))\n",
    "    \n",
    "    eye_point = target_point + new_displacement_vector\n",
    "\n",
    "    viewMatrix = glm.lookAt(eye_point, target_point, up_vector)\n",
    "\n",
    "    gl.clear(0.0, 0.0, 0.0)\n",
    "\n",
    "    # ToDo: Render floor\n",
    "    #    Set the view, perspective, light uniform values.Render the floor:\n",
    "    #    attach the floor texture sampler to texture unit 0: <sampler>.use(0)\n",
    "    #    set the map sampler value to 0\n",
    "    #    make render call for the floor\n",
    "    floor_renderable(render)\n",
    "    # Render model\n",
    "    program = floor_program\n",
    "    program[\"view\"].write(viewMatrix)\n",
    "    program[\"perspective\"].write(perspectiveMatrix)\n",
    "    program[\"light\"].write(new_light_displacement_vector)\n",
    "    floor_sampler.use(0)\n",
    "    program[\"map\"]\n",
    "    modelObj.render()\n",
    "    \n",
    "    pygame.display.flip()\n",
    "    \n",
    "    clock.tick(60)  # limits FPS to 10\n",
    "    if not pause:\n",
    "        alpha +=  1\n",
    "        if alpha > 360:\n",
    "            alpha = 0\n",
    "    #running = False\n",
    "pygame.display.quit()"
   ]
  }
 ],
 "metadata": {
  "kernelspec": {
   "display_name": "base",
   "language": "python",
   "name": "python3"
  },
  "language_info": {
   "codemirror_mode": {
    "name": "ipython",
    "version": 3
   },
   "file_extension": ".py",
   "mimetype": "text/x-python",
   "name": "python",
   "nbconvert_exporter": "python",
   "pygments_lexer": "ipython3",
   "version": "3.13.5"
  }
 },
 "nbformat": 4,
 "nbformat_minor": 5
}
