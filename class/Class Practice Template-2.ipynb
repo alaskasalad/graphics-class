{
 "cells": [
  {
   "cell_type": "markdown",
   "id": "9ae702dd-1048-4ec2-ae45-57cf28deb652",
   "metadata": {},
   "source": [
    "# Class Practice Session"
   ]
  },
  {
   "cell_type": "markdown",
   "id": "a81f9363-fc5e-46f9-9997-a9b3000d274e",
   "metadata": {},
   "source": [
    "## Goal:\n",
    "- Use of texture coordinates as an additional vertex attribute.\n",
    "- Texture mapping"
   ]
  },
  {
   "cell_type": "markdown",
   "id": "a4740fa5-1787-43f7-bb19-85c685937e97",
   "metadata": {},
   "source": [
    "## Change from Assignment 4\n",
    "- Load image data\n",
    "- Create a texture object and load texture data into GPU \n",
    "- Create a sampler from a texture object by specifying filter and wrap options\n",
    "- Create a quad shaped clock-face geometry with texture coordinates\n",
    "- vertex shader, fragment shader program for the clock face, and create a face render program using them.\n",
    "- Create a face renderable\n",
    "- before making the face render call\n",
    "-- attach the texture sampler object to a texture unit\n",
    "-- Set the sampler to texture unit number.\n",
    "- Do the face render call"
   ]
  },
  {
   "cell_type": "markdown",
   "id": "3084cf9b-c887-4f14-aa36-81ba74247f4e",
   "metadata": {},
   "source": [
    "## Intialize"
   ]
  },
  {
   "cell_type": "code",
   "execution_count": 45,
   "id": "5892790a-0935-469e-b334-e7293da0178d",
   "metadata": {},
   "outputs": [
    {
     "data": {
      "text/plain": [
       "'4.6.0 - Build 32.0.101.6881'"
      ]
     },
     "execution_count": 45,
     "metadata": {},
     "output_type": "execute_result"
    }
   ],
   "source": [
    "import pygame\n",
    "import moderngl\n",
    "import numpy\n",
    "from math import cos, sin, pi, radians\n",
    "import glm\n",
    "\n",
    "pygame.init() # Initlizes its different modules. Display module is one of them.\n",
    "\n",
    "width = 840\n",
    "height = 480\n",
    "pygame.display.gl_set_attribute(pygame.GL_CONTEXT_PROFILE_MASK, pygame.GL_CONTEXT_PROFILE_CORE) \n",
    "pygame.display.set_mode((width, height), flags= pygame.OPENGL | pygame.DOUBLEBUF | pygame.RESIZABLE)\n",
    "pygame.display.set_caption(title = \"Class Practice: Instructor\")\n",
    "gl = moderngl.get_context() # Get Previously created context.\n",
    "gl.info[\"GL_VERSION\"]"
   ]
  },
  {
   "cell_type": "markdown",
   "id": "d1a1a5b3-9289-44d9-bf2a-81cb0efc00b3",
   "metadata": {},
   "source": [
    "### Get the geometry data load it to a GPU buffer"
   ]
  },
  {
   "cell_type": "code",
   "execution_count": 46,
   "id": "73636cb0-7c87-4cb3-8e3f-065c4f41b348",
   "metadata": {},
   "outputs": [],
   "source": [
    "diamond_position_data = [\n",
    "    0.0, 0.8,\n",
    "    -0.8, 0,\n",
    "    0.8, 0,\n",
    "    0.8, 0,\n",
    "    -0.8, 0,\n",
    "    0, -0.8\n",
    "]\n",
    "diamond_geometry = numpy.array(diamond_position_data).astype(\"float32\")\n",
    "#Push the Geometry Data to the GPU buffer.\n",
    "diamond_geometry_buffer = gl.buffer(diamond_geometry) # Create a Vertex buffer object from the data"
   ]
  },
  {
   "cell_type": "markdown",
   "id": "c83863e7-ffe6-4990-95d5-e6387fe1a201",
   "metadata": {},
   "source": [
    "## Create shader programs"
   ]
  },
  {
   "cell_type": "markdown",
   "id": "1c90d113-6362-424c-9588-5072b3acb168",
   "metadata": {},
   "source": [
    "#### Vertex Shaders\n",
    "The Vertex shader must set the value of a predefined vec4 variable gl_Position."
   ]
  },
  {
   "cell_type": "code",
   "execution_count": 47,
   "id": "dad02f19-dec2-45f2-aa04-c2308a95de54",
   "metadata": {
    "jupyter": {
     "source_hidden": true
    }
   },
   "outputs": [],
   "source": [
    "diamond_vertex_shader_code = '''\n",
    "#version 330 core\n",
    "\n",
    "// add attributes variables here\n",
    "layout (location=0) in vec2 position;\n",
    "\n",
    "uniform mat2 M;\n",
    "uniform float scale;\n",
    "uniform float radius;\n",
    "\n",
    "void main() {\n",
    "    vec2 displacement = radius * M * vec2(0,1);\n",
    "    vec2 P = M * (scale * position) + displacement;\n",
    "    gl_Position = vec4(P,0.0, 1.0);\n",
    "}\n",
    "'''\n",
    "line_vertex_shader_code = '''\n",
    "#version 330 core\n",
    "\n",
    "// add attributes variables here\n",
    "uniform mat2 M;\n",
    "uniform float radius;\n",
    "\n",
    "void main() {\n",
    "    vec2 P = vec2(0);\n",
    "    if (gl_VertexID > 0){\n",
    "        P = radius * M * vec2(0,1);\n",
    "    }\n",
    "    gl_Position = vec4(P,0.0, 1.0);\n",
    "}\n",
    "'''\n",
    "\n",
    "face_vertex_shader_code = '''\n",
    "#version 330 core\n",
    "\n",
    "out vec2 f_uv;\n",
    "uniform mat2 M; \n",
    "\n",
    "void main() {\n",
    "    \n",
    "    vec2 P, uv;\n",
    "    switch (gl_VertexID) {\n",
    "        case 0:\n",
    "        case 3:\n",
    "            uv = vec2(0,0);\n",
    "            P = vec2(-1,-1);\n",
    "            break;\n",
    "        case 1:\n",
    "            uv = vec2(1,0);\n",
    "            P = vec2(1,-1);\n",
    "            break; \n",
    "        case 2:\n",
    "        case 4: \n",
    "            uv = vec2(1,1);\n",
    "            P = vec2(1,1);\n",
    "            break;\n",
    "        case 5:\n",
    "            uv = vec2(0,1);\n",
    "            P = vec2(-1,1);\n",
    "            break;\n",
    "    }\n",
    "    gl_Position = vec4(P*M,0.0, 1.0);\n",
    "}\n",
    "'''"
   ]
  },
  {
   "cell_type": "markdown",
   "id": "545e617b-8585-45a6-bee3-29d6371e5c71",
   "metadata": {},
   "source": [
    "#### Fragment Shaders\n",
    "For rendering fragment shader must output something (minimally a vec4 value) to the framebuffer "
   ]
  },
  {
   "cell_type": "code",
   "execution_count": 48,
   "id": "e16a97ac-76c8-4312-bb6a-e9a453fa6e9d",
   "metadata": {},
   "outputs": [],
   "source": [
    "fragment_shader_code = '''\n",
    "#version 330 core\n",
    "\n",
    "out vec4 color;\n",
    "uniform vec3 inColor;\n",
    "\n",
    "void main() {\n",
    "   \n",
    "    color = vec4(inColor,1);\n",
    "}\n",
    "'''\n",
    "\n",
    "face_fragment_shader_code = '''\n",
    "#version 330 core\n",
    "\n",
    "out vec4 color;\n",
    "\n",
    "in vec2 f_uv; \n",
    "uniform sampler2D map; \n",
    "\n",
    "void main() {\n",
    "\n",
    "    color = texture(map, f_uv);\n",
    "}\n",
    "'''"
   ]
  },
  {
   "cell_type": "markdown",
   "id": "365e1e12-7bde-49bf-8098-894dd4713738",
   "metadata": {},
   "source": [
    "### Create Shader program from the Vertex and Fragment shader code"
   ]
  },
  {
   "cell_type": "code",
   "execution_count": 49,
   "id": "8d36e33c-2b1e-4d05-a8a8-60aff0a0c110",
   "metadata": {},
   "outputs": [],
   "source": [
    "diamond_program = gl.program(\n",
    "    vertex_shader= diamond_vertex_shader_code,\n",
    "    fragment_shader=fragment_shader_code\n",
    ")\n",
    "\n",
    "line_program = gl.program(\n",
    "    vertex_shader= line_vertex_shader_code,\n",
    "    fragment_shader= fragment_shader_code\n",
    ")\n",
    "face_program = gl.program(\n",
    "    vertex_shader= face_vertex_shader_code,\n",
    "    fragment_shader= face_fragment_shader_code\n",
    ")"
   ]
  },
  {
   "cell_type": "markdown",
   "id": "eb55f926-f41e-490d-98a4-91b9d03f2e6d",
   "metadata": {},
   "source": [
    "#### Create connection between the data in buffer object and vertex attribute in vertex program \n",
    "Connection is created by function ctx.vertex_array(program: Program, content: list).  \n",
    "- $list# is a python list of (buffer, format, attribute name(s))\n",
    "\n",
    "See https://moderngl.readthedocs.io/en/latest/reference/vertex_array.html "
   ]
  },
  {
   "cell_type": "code",
   "execution_count": 50,
   "id": "edf00f3c-45cc-41c4-bb66-74a9ddd052b9",
   "metadata": {},
   "outputs": [],
   "source": [
    "diamond_renderable = gl.vertex_array(diamond_program,\n",
    "    [( diamond_geometry_buffer, \"2f\", \"position\" ) ]\n",
    ")\n",
    "\n",
    "line_renderable = gl.vertex_array(line_program,\n",
    "    []\n",
    ")\n",
    "face_renderable = gl.vertex_array(face_program, [])"
   ]
  },
  {
   "cell_type": "markdown",
   "id": "6be52fba-ac68-45d1-b357-299c27c2945c",
   "metadata": {},
   "source": [
    "##  Create Texture object and specify filter and wrap options.\n",
    "__Load image and get the data in a sequence of bytes__  \n",
    "pygame.image.load() will return a Suface object that has image data.  \n",
    "texture_img = pygame.image.load(image_file) \n",
    "texture_data = pygame.image.tobytes(texture_img,channels,True) \\#tobytes(Surface, format=\\<\"RGB\" or \"RGBA\"\\>, \\<to Flip or no to flip True/False\\>) -> bytes    \n",
    "\\#w, h = texture_img.get_size()   \n",
    "\n",
    "__Create Texture object and send the data__  \n",
    "ctx.texture(size = \\<size tuple\\>, data=\\<texture data in bytes\\>,components=\\<Number of color channels>) \\# returns texture object filled with data\n",
    "\n",
    "__Create a sampler object that associates filter and wrap options with the texture__  \n",
    " ctx.sampler(texture=\\<texture object\\>, filter=(\\<Minification filter\\>, \\<magnification filter\\>), repeat_x=\\<True/False\\>, repeat_y=\\<True/False\\>) \\# returns a sampler object\n",
    "\n",
    "The sampler object must be attached to a texture unit before it can be used in the shader program.  \n",
    "\\<sampler object\\>.use(n)"
   ]
  },
  {
   "cell_type": "code",
   "execution_count": 51,
   "id": "5540987f",
   "metadata": {},
   "outputs": [],
   "source": [
    "texture_img = pygame.image.load(\"clockFace.png\").convert_alpha()\n",
    "texture_data = pygame.image.tobytes(texture_img, \"RGB\", True)\n",
    "faceTexture = gl.texture(texture_img.get_size(), data = texture_data, components=3)\n",
    "faceSampler = gl.sampler(texture=faceTexture, filter=(gl.LINEAR, gl.LINEAR))"
   ]
  },
  {
   "cell_type": "code",
   "execution_count": 52,
   "id": "026b2c8d",
   "metadata": {},
   "outputs": [
    {
     "data": {
      "text/plain": [
       "(1660, 1655)"
      ]
     },
     "execution_count": 52,
     "metadata": {},
     "output_type": "execute_result"
    }
   ],
   "source": [
    "texture_img.get_size()"
   ]
  },
  {
   "cell_type": "markdown",
   "id": "c001c7bc-c5ce-4f1d-b9fb-54c1250b6b03",
   "metadata": {},
   "source": [
    "## Render loop"
   ]
  },
  {
   "cell_type": "code",
   "execution_count": 53,
   "id": "63ba44fa-9c1a-4eac-b2ed-20018c3dea34",
   "metadata": {},
   "outputs": [],
   "source": [
    "running = True\n",
    "clock = pygame.time.Clock()\n",
    "alpha = 0\n",
    "\n",
    "while running:   \n",
    "    # poll for events\n",
    "    # pygame.QUIT event means the user clicked X to close your window\n",
    "    # event.key == 27 means Escape key is pressed.\n",
    "    for event in pygame.event.get():\n",
    "        if event.type == pygame.QUIT or (event.type == pygame.KEYDOWN and event.key == 27):\n",
    "            running = False\n",
    "        elif (event.type == pygame.WINDOWRESIZED):\n",
    "            width = event.x\n",
    "            height = event.y\n",
    "    aspect = width/height\n",
    "    # create the aspect ratio correction matrix\n",
    "    \n",
    "    M_aspect = glm.mat2(1/aspect, 0, 0, 1) if aspect > 1 else glm.mat2(1, 0, 0, aspect)\n",
    "\n",
    "    #Create the rotation matrix\n",
    "    # ... Part of assignment 4\n",
    "    # M = M_aspect * M_rotate\n",
    "    M = M_aspect\n",
    "    \n",
    "    ### Add render code below\n",
    "    # Clear the display window with the specified R, G, B values using function ctx.clear(R, G, B)\n",
    "    gl.clear(0.5,0.5,0.0)\n",
    "\n",
    "    faceSampler.use(0)\n",
    "    face_program[\"map\"] = 0\n",
    "    face_program[\"M\"].write(M)\n",
    "    face_renderable.render(moderngl.TRIANGLES, vertices=6)\n",
    "    \n",
    "    # Make one or more Render Calls to instruct the GPU to render by executing the shader program with the provided data.\n",
    "\n",
    "    diamond_program[\"M\"].write(M)\n",
    "    \n",
    "    diamond_program[\"scale\"] = 0.1\n",
    "    diamond_program[\"inColor\"] = 1, 1, 0\n",
    "    \n",
    "    diamond_program[\"radius\"] = 0.8\n",
    "    diamond_renderable.render()\n",
    "    \n",
    "    diamond_program[\"radius\"] = 0.0\n",
    "    diamond_renderable.render()\n",
    "    \n",
    "    line_program[\"M\"].write(M)\n",
    "    line_program[\"radius\"] = 0.8\n",
    "    line_program[\"inColor\"] = 0, 0, 0\n",
    "    line_renderable.render(moderngl.LINES, vertices=2)  \n",
    "    \n",
    "    pygame.display.flip()\n",
    "    clock.tick(60)  # limits FPS to 10\n",
    "    alpha = alpha + 1\n",
    "    if alpha > 360:\n",
    "        alpha = 0\n",
    "\n",
    "pygame.display.quit()"
   ]
  },
  {
   "cell_type": "code",
   "execution_count": 54,
   "id": "ed6ee319-537f-4960-addb-814f4e8aa0d5",
   "metadata": {},
   "outputs": [
    {
     "name": "stdout",
     "output_type": "stream",
     "text": [
      "[     0.571429 ][            0 ]\n",
      "[            0 ][            1 ]\n"
     ]
    }
   ],
   "source": [
    "print(M_aspect)"
   ]
  },
  {
   "cell_type": "code",
   "execution_count": 55,
   "id": "c121c582-41ce-42fe-a8ca-92f481c238bf",
   "metadata": {},
   "outputs": [
    {
     "name": "stdout",
     "output_type": "stream",
     "text": [
      "[     0.571429 ][            0 ]\n",
      "[            0 ][            1 ]\n"
     ]
    }
   ],
   "source": [
    "print(M)"
   ]
  }
 ],
 "metadata": {
  "kernelspec": {
   "display_name": "Python 3",
   "language": "python",
   "name": "python3"
  },
  "language_info": {
   "codemirror_mode": {
    "name": "ipython",
    "version": 3
   },
   "file_extension": ".py",
   "mimetype": "text/x-python",
   "name": "python",
   "nbconvert_exporter": "python",
   "pygments_lexer": "ipython3",
   "version": "3.12.6"
  }
 },
 "nbformat": 4,
 "nbformat_minor": 5
}
