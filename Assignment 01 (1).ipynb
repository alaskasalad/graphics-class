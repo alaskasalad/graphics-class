{
 "cells": [
  {
   "cell_type": "code",
   "execution_count": 1,
   "id": "6be2428f-4012-4034-ac96-fd6b2d913862",
   "metadata": {},
   "outputs": [],
   "source": [
    "# Assignment 1: Caitlin Box"
   ]
  },
  {
   "cell_type": "code",
   "execution_count": 2,
   "id": "6473d57e-5190-4b8a-91a0-9a8270ab25ec",
   "metadata": {},
   "outputs": [
    {
     "name": "stdout",
     "output_type": "stream",
     "text": [
      "pygame 2.6.1 (SDL 2.28.4, Python 3.12.6)\n",
      "Hello from the pygame community. https://www.pygame.org/contribute.html\n"
     ]
    }
   ],
   "source": [
    "import pygame\n",
    "import random\n",
    "pygame.init()\n",
    "clock = pygame.time.Clock()"
   ]
  },
  {
   "cell_type": "code",
   "execution_count": 3,
   "id": "76dfc8e8-e63a-49ba-a4ad-4592c282ea49",
   "metadata": {},
   "outputs": [],
   "source": [
    "display = pygame.display.set_mode((800, 600))\n",
    "pygame.display.set_caption(title = \"Assignment 1: Caitlin Box\")"
   ]
  },
  {
   "cell_type": "code",
   "execution_count": 4,
   "id": "2138d692-fb13-49b0-9ff9-9b9ea76f055b",
   "metadata": {},
   "outputs": [],
   "source": [
    "FPS = 30\n",
    "frameCount = 0\n",
    "currentColor = (255, 0, 0)"
   ]
  },
  {
   "cell_type": "code",
   "execution_count": 5,
   "id": "5bc1cb51-27ca-453f-bfa1-0207425cc5a0",
   "metadata": {
    "scrolled": true
   },
   "outputs": [
    {
     "ename": "KeyboardInterrupt",
     "evalue": "",
     "output_type": "error",
     "traceback": [
      "\u001b[31m---------------------------------------------------------------------------\u001b[39m",
      "\u001b[31mKeyboardInterrupt\u001b[39m                         Traceback (most recent call last)",
      "\u001b[36mCell\u001b[39m\u001b[36m \u001b[39m\u001b[32mIn[5]\u001b[39m\u001b[32m, line 12\u001b[39m\n\u001b[32m     10\u001b[39m display.fill(currentColor)\n\u001b[32m     11\u001b[39m pygame.display.flip()\n\u001b[32m---> \u001b[39m\u001b[32m12\u001b[39m \u001b[43mclock\u001b[49m\u001b[43m.\u001b[49m\u001b[43mtick\u001b[49m\u001b[43m(\u001b[49m\u001b[43mFPS\u001b[49m\u001b[43m)\u001b[49m\n",
      "\u001b[31mKeyboardInterrupt\u001b[39m: "
     ]
    }
   ],
   "source": [
    "running = True\n",
    "while running: \n",
    "    for event in pygame.event.get():\n",
    "        if event.type == pygame.QUIT or (event.type == pygame.KEYDOWN and event.key == 27):\n",
    "            running = False\n",
    "    frameCount += 1\n",
    "    if frameCount >= FPS:\n",
    "        currentColor = (random.randint(0, 255), random.randint(0, 255), random.randint(0, 255))  \n",
    "        frameCount = 0\n",
    "    display.fill(currentColor)\n",
    "    pygame.display.flip()\n",
    "    clock.tick(FPS)"
   ]
  }
 ],
 "metadata": {
  "kernelspec": {
   "display_name": "Python 3 (ipykernel)",
   "language": "python",
   "name": "python3"
  },
  "language_info": {
   "codemirror_mode": {
    "name": "ipython",
    "version": 3
   },
   "file_extension": ".py",
   "mimetype": "text/x-python",
   "name": "python",
   "nbconvert_exporter": "python",
   "pygments_lexer": "ipython3",
   "version": "3.12.6"
  }
 },
 "nbformat": 4,
 "nbformat_minor": 5
}
